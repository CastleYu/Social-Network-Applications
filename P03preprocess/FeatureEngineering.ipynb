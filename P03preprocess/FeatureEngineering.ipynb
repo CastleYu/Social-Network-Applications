{
 "cells": [
  {
   "cell_type": "markdown",
   "source": [
    "# 特征选择"
   ],
   "metadata": {
    "collapsed": false
   },
   "id": "d809c0e3cf71dd70"
  },
  {
   "cell_type": "markdown",
   "source": [
    "## Filter - 过滤法"
   ],
   "metadata": {
    "collapsed": false
   },
   "id": "436e56509b1a66ef"
  },
  {
   "cell_type": "markdown",
   "source": [
    "### 数据读取"
   ],
   "metadata": {
    "collapsed": false
   },
   "id": "d2ace6ba0660739b"
  },
  {
   "cell_type": "code",
   "execution_count": null,
   "id": "initial_id",
   "metadata": {
    "collapsed": true
   },
   "outputs": [],
   "source": [
    "import pandas as pd\n",
    "\n",
    "raw_df = pd.read_csv(\"data-test-1.csv\", index_col=0)  #读取数据。index_col=0：读取时不自动添加行号。\n",
    "raw_df.head()"
   ]
  },
  {
   "cell_type": "code",
   "outputs": [],
   "source": [
    "raw_data = raw_df.drop([\"rating\"], axis=1)  #删除指定标签列\n",
    "labels = raw_df[\"rating\"]  #标签"
   ],
   "metadata": {
    "collapsed": false,
    "ExecuteTime": {
     "end_time": "2024-03-26T09:58:44.547062Z",
     "start_time": "2024-03-26T09:58:44.538327Z"
    }
   },
   "id": "469c3d4426d79ed3",
   "execution_count": 1
  },
  {
   "cell_type": "markdown",
   "source": [
    "### 无量纲化"
   ],
   "metadata": {
    "collapsed": false
   },
   "id": "a62ce836bc9fec31"
  },
  {
   "cell_type": "code",
   "outputs": [],
   "source": [
    "from sklearn.preprocessing import StandardScaler\n",
    "\n",
    "sc_X = StandardScaler(copy=True)\n",
    "data = pd.DataFrame(sc_X.fit_transform(raw_data))\n",
    "data"
   ],
   "metadata": {
    "collapsed": false
   },
   "id": "eb635994c0e832dd"
  },
  {
   "cell_type": "markdown",
   "source": [
    "### 方差选择法"
   ],
   "metadata": {
    "collapsed": false
   },
   "id": "44aeb20201ed519e"
  },
  {
   "cell_type": "code",
   "outputs": [],
   "source": [
    "\n",
    "from sklearn.feature_selection import VarianceThreshold\n",
    "\n",
    "#这里我们使用原始数据\n",
    "data_after_var = VarianceThreshold(threshold=0.01).fit_transform(raw_data, labels)  #使用阈值 0.01 进行选择\n",
    "data_after_var.shape"
   ],
   "metadata": {
    "collapsed": false
   },
   "id": "8bb15e78456ce77c"
  },
  {
   "cell_type": "code",
   "outputs": [],
   "source": [
    "data_after_var = pd.concat([pd.DataFrame(data_after_var), labels], axis=1)\n",
    "data_after_var.to_csv(\"data_after_var\")"
   ],
   "metadata": {
    "collapsed": false
   },
   "id": "c4b88b08c618bbaa"
  },
  {
   "cell_type": "markdown",
   "source": [
    "### 皮尔森关系系数"
   ],
   "metadata": {
    "collapsed": false
   },
   "id": "8f8d9c7dfa7ef5b4"
  },
  {
   "cell_type": "code",
   "outputs": [
    {
     "ename": "NameError",
     "evalue": "name 'raw_data' is not defined",
     "output_type": "error",
     "traceback": [
      "\u001B[1;31m---------------------------------------------------------------------------\u001B[0m",
      "\u001B[1;31mNameError\u001B[0m                                 Traceback (most recent call last)",
      "Cell \u001B[1;32mIn[2], line 1\u001B[0m\n\u001B[1;32m----> 1\u001B[0m data_numerical \u001B[38;5;241m=\u001B[39m\u001B[43mraw_data\u001B[49m[[\u001B[38;5;124m\"\u001B[39m\u001B[38;5;124msuspectedCount\u001B[39m\u001B[38;5;124m\"\u001B[39m,\u001B[38;5;124m\"\u001B[39m\u001B[38;5;124mcuredCount\u001B[39m\u001B[38;5;124m\"\u001B[39m,\u001B[38;5;124m\"\u001B[39m\u001B[38;5;124mdeadCount\u001B[39m\u001B[38;5;124m\"\u001B[39m]]\n\u001B[0;32m      2\u001B[0m data_numerical\n",
      "\u001B[1;31mNameError\u001B[0m: name 'raw_data' is not defined"
     ]
    }
   ],
   "source": [
    "data_numerical = raw_data[[\"suspectedCount\", \"curedCount\", \"deadCount\"]]\n",
    "data_numerical"
   ],
   "metadata": {
    "collapsed": false,
    "ExecuteTime": {
     "end_time": "2024-03-26T10:10:54.384684Z",
     "start_time": "2024-03-26T10:10:53.927628Z"
    }
   },
   "id": "2acb389988ad24e0",
   "execution_count": 2
  },
  {
   "cell_type": "code",
   "outputs": [],
   "source": [
    "from sklearn.feature_selection import SelectKBest\n",
    "from scipy.stats import pearsonr\n",
    "\n",
    "print(pearsonr(data_numerical[\"suspectedCount\"], labels))\n",
    "print(pearsonr(data_numerical[\"curedCount\"], labels))\n",
    "print(pearsonr(data_numerical[\"deadCount\"], labels))"
   ],
   "metadata": {
    "collapsed": false
   },
   "id": "e23e60f553faeaf5"
  },
  {
   "cell_type": "code",
   "outputs": [
    {
     "ename": "NameError",
     "evalue": "name 'SelectKBest' is not defined",
     "output_type": "error",
     "traceback": [
      "\u001B[1;31m---------------------------------------------------------------------------\u001B[0m",
      "\u001B[1;31mNameError\u001B[0m                                 Traceback (most recent call last)",
      "Cell \u001B[1;32mIn[3], line 3\u001B[0m\n\u001B[0;32m      1\u001B[0m \u001B[38;5;28;01mimport\u001B[39;00m \u001B[38;5;21;01mnumpy\u001B[39;00m \u001B[38;5;28;01mas\u001B[39;00m \u001B[38;5;21;01mnp\u001B[39;00m\n\u001B[1;32m----> 3\u001B[0m data_numerical \u001B[38;5;241m=\u001B[39m \u001B[43mSelectKBest\u001B[49m(\u001B[38;5;28;01mlambda\u001B[39;00m X, Y: np\u001B[38;5;241m.\u001B[39marray(\u001B[38;5;28mlist\u001B[39m(\u001B[38;5;28mmap\u001B[39m(\u001B[38;5;28;01mlambda\u001B[39;00m\n\u001B[0;32m      4\u001B[0m                                                                 x: pearsonr(x, Y), X\u001B[38;5;241m.\u001B[39mT)))\u001B[38;5;241m.\u001B[39mT[\u001B[38;5;241m0\u001B[39m], k\u001B[38;5;241m=\u001B[39m\u001B[38;5;241m2\u001B[39m)\u001B[38;5;241m.\u001B[39mfit_transform(\n\u001B[0;32m      5\u001B[0m     data_numerical, labels)\n\u001B[0;32m      6\u001B[0m data_numerical \u001B[38;5;241m=\u001B[39m pd\u001B[38;5;241m.\u001B[39mDataFrame(data_numerical, columns\u001B[38;5;241m=\u001B[39m{\u001B[38;5;124m\"\u001B[39m\u001B[38;5;124mfeature1\u001B[39m\u001B[38;5;124m\"\u001B[39m, \u001B[38;5;124m\"\u001B[39m\u001B[38;5;124mfeature2\u001B[39m\u001B[38;5;124m\"\u001B[39m})\n",
      "\u001B[1;31mNameError\u001B[0m: name 'SelectKBest' is not defined"
     ]
    }
   ],
   "source": [
    "import numpy as np\n",
    "\n",
    "data_numerical = SelectKBest(lambda X, Y: np.array(list(map(lambda\n",
    "                                                                x: pearsonr(x, Y), X.T))).T[0], k=2).fit_transform(\n",
    "    data_numerical, labels)\n",
    "data_numerical = pd.DataFrame(data_numerical, columns={\"feature1\", \"feature2\"})\n",
    "data_numerical"
   ],
   "metadata": {
    "collapsed": false,
    "ExecuteTime": {
     "end_time": "2024-03-26T10:11:40.965549Z",
     "start_time": "2024-03-26T10:11:40.946857Z"
    }
   },
   "id": "adafbfd3bb7d0551",
   "execution_count": 3
  },
  {
   "cell_type": "code",
   "outputs": [],
   "source": [],
   "metadata": {
    "collapsed": false
   },
   "id": "b5244f8e6e5372d3"
  },
  {
   "cell_type": "markdown",
   "source": [
    "# 降维"
   ],
   "metadata": {
    "collapsed": false
   },
   "id": "f9d6b8a4ba1d9f8a"
  },
  {
   "cell_type": "markdown",
   "source": [
    "## PCA实现"
   ],
   "metadata": {
    "collapsed": false
   },
   "id": "37a18f2cc8508636"
  },
  {
   "cell_type": "code",
   "outputs": [],
   "source": [
    "from sklearn.decomposition import PCA\n",
    "\n",
    "pca = PCA(n_components=0.85)\n",
    "data_after_pca = pd.DataFrame(pca.fit_transform(data))\n",
    "data_after_pca"
   ],
   "metadata": {
    "collapsed": false
   },
   "id": "ae6e71ae38e3a96e"
  },
  {
   "cell_type": "markdown",
   "source": [
    "## 可视化"
   ],
   "metadata": {
    "collapsed": false
   },
   "id": "a8acfc818f889ea7"
  },
  {
   "cell_type": "code",
   "outputs": [],
   "source": [
    "scaled_labels = pd.DataFrame(labels.astype(\"int\"), columns={\"rating\"})\n",
    "data_after_pca_withlabels = pd.concat([data_after_pca, labels], axis=1)\n",
    "data_after_pca_withlabels.to_csv(\"after_pca.csv\")\n",
    "data_after_pca_withlabels"
   ],
   "metadata": {
    "collapsed": false
   },
   "id": "840aef45c5e1801a"
  },
  {
   "cell_type": "code",
   "outputs": [],
   "source": [
    "import matplotlib.pyplot as plt\n",
    "\n",
    "\n",
    "def draw_graph(X):\n",
    "    for i in range(2):\n",
    "        plt.scatter(data_after_pca_withlabels.loc[data_after_pca_withlabels.rating == i, 0],\n",
    "                    data_after_pca_withlabels.loc[data_after_pca_withlabels.rating == i, 1], alpha=0.8,\n",
    "                    label='%s' % i)\n",
    "    plt.legend()\n",
    "    plt.show()\n",
    "\n",
    "\n",
    "draw_graph(data)"
   ],
   "metadata": {
    "collapsed": false
   },
   "id": "6a4f8ec8995760c2"
  }
 ],
 "metadata": {
  "kernelspec": {
   "display_name": "Python 3",
   "language": "python",
   "name": "python3"
  },
  "language_info": {
   "codemirror_mode": {
    "name": "ipython",
    "version": 2
   },
   "file_extension": ".py",
   "mimetype": "text/x-python",
   "name": "python",
   "nbconvert_exporter": "python",
   "pygments_lexer": "ipython2",
   "version": "2.7.6"
  }
 },
 "nbformat": 4,
 "nbformat_minor": 5
}
