{
 "cells": [
  {
   "cell_type": "markdown",
   "source": [
    "# 特征选择"
   ],
   "metadata": {
    "collapsed": false
   },
   "id": "d809c0e3cf71dd70"
  },
  {
   "cell_type": "markdown",
   "source": [
    "## Filter - 过滤法"
   ],
   "metadata": {
    "collapsed": false
   },
   "id": "436e56509b1a66ef"
  },
  {
   "cell_type": "markdown",
   "source": [
    "### 数据读取"
   ],
   "metadata": {
    "collapsed": false
   },
   "id": "d2ace6ba0660739b"
  },
  {
   "cell_type": "code",
   "outputs": [
    {
     "ename": "NameError",
     "evalue": "name 'false' is not defined",
     "output_type": "error",
     "traceback": [
      "\u001B[1;31m---------------------------------------------------------------------------\u001B[0m",
      "\u001B[1;31mNameError\u001B[0m                                 Traceback (most recent call last)",
      "Cell \u001B[1;32mIn[28], line 1\u001B[0m\n\u001B[1;32m----> 1\u001B[0m a \u001B[38;5;241m=\u001B[39m \u001B[43mfalse\u001B[49m\n",
      "\u001B[1;31mNameError\u001B[0m: name 'false' is not defined"
     ]
    }
   ],
   "source": [
    "a = false"
   ],
   "metadata": {
    "collapsed": false,
    "ExecuteTime": {
     "end_time": "2024-04-01T15:58:26.646926Z",
     "start_time": "2024-04-01T15:58:26.635400Z"
    }
   },
   "id": "aed294225cf72f49",
   "execution_count": 28
  },
  {
   "cell_type": "code",
   "execution_count": 4,
   "id": "initial_id",
   "metadata": {
    "collapsed": true,
    "ExecuteTime": {
     "end_time": "2024-04-01T15:44:00.891226Z",
     "start_time": "2024-04-01T15:44:00.861303Z"
    }
   },
   "outputs": [
    {
     "data": {
      "text/plain": "                       confirmedCount  suspectedCount  curedCount  deadCount  \\\ncurrentConfirmedCount                                                          \n10821.0                         81062             114       67037       3204   \n10821.0                         81062             114       67037       3204   \n10820.0                         81061             114       67037       3204   \n10820.0                         81061             114       67037       3204   \n10820.0                         81061             114       67037       3204   \n\n                       seriousCount  currentConfirmedIncr  confirmedIncr  \\\ncurrentConfirmedCount                                                      \n10821.0                      3226.0               -1357.0           41.0   \n10821.0                      3226.0               -1357.0           41.0   \n10820.0                      3226.0               -1358.0           40.0   \n10820.0                      3226.0               -1358.0           40.0   \n10820.0                      3226.0               -1358.0           40.0   \n\n                       suspectedIncr  curedIncr  deadIncr  seriousIncr  \\\ncurrentConfirmedCount                                                    \n10821.0                         19.0     1388.0      10.0       -384.0   \n10821.0                         19.0     1388.0      10.0       -384.0   \n10820.0                         19.0     1388.0      10.0       -384.0   \n10820.0                         19.0     1388.0      10.0       -384.0   \n10820.0                         19.0     1388.0      10.0       -384.0   \n\n                                                        remark1  \\\ncurrentConfirmedCount                                             \n10821.0                易感人群：人群普遍易感。老年人及有基础疾病者感染后病情较重，儿童及婴幼儿也有发病   \n10821.0                易感人群：人群普遍易感。老年人及有基础疾病者感染后病情较重，儿童及婴幼儿也有发病   \n10820.0                易感人群：人群普遍易感。老年人及有基础疾病者感染后病情较重，儿童及婴幼儿也有发病   \n10820.0                易感人群：人群普遍易感。老年人及有基础疾病者感染后病情较重，儿童及婴幼儿也有发病   \n10820.0                易感人群：人群普遍易感。老年人及有基础疾病者感染后病情较重，儿童及婴幼儿也有发病   \n\n                                                                 remark2  \\\ncurrentConfirmedCount                                                      \n10821.0                潜伏期：一般为 3～7 天，最长不超过 14 天，潜伏期内可能存在传染性，其中无症状病例传染...   \n10821.0                潜伏期：一般为 3～7 天，最长不超过 14 天，潜伏期内可能存在传染性，其中无症状病例传染...   \n10820.0                潜伏期：一般为 3～7 天，最长不超过 14 天，潜伏期内可能存在传染性，其中无症状病例传染...   \n10820.0                潜伏期：一般为 3～7 天，最长不超过 14 天，潜伏期内可能存在传染性，其中无症状病例传染...   \n10820.0                潜伏期：一般为 3～7 天，最长不超过 14 天，潜伏期内可能存在传染性，其中无症状病例传染...   \n\n                                remark3 remark4  remark5  \\\ncurrentConfirmedCount                                      \n10821.0                宿主：野生动物，可能为中华菊头蝠     NaN      NaN   \n10821.0                宿主：野生动物，可能为中华菊头蝠     NaN      NaN   \n10820.0                宿主：野生动物，可能为中华菊头蝠     NaN      NaN   \n10820.0                宿主：野生动物，可能为中华菊头蝠     NaN      NaN   \n10820.0                宿主：野生动物，可能为中华菊头蝠     NaN      NaN   \n\n                                                note1  \\\ncurrentConfirmedCount                                   \n10821.0                病毒：SARS-CoV-2，其导致疾病命名 COVID-19   \n10821.0                病毒：SARS-CoV-2，其导致疾病命名 COVID-19   \n10820.0                病毒：SARS-CoV-2，其导致疾病命名 COVID-19   \n10820.0                病毒：SARS-CoV-2，其导致疾病命名 COVID-19   \n10820.0                病毒：SARS-CoV-2，其导致疾病命名 COVID-19   \n\n                                             note2  \\\ncurrentConfirmedCount                                \n10821.0                传染源：新冠肺炎的患者。无症状感染者也可能成为传染源。   \n10821.0                传染源：新冠肺炎的患者。无症状感染者也可能成为传染源。   \n10820.0                传染源：新冠肺炎的患者。无症状感染者也可能成为传染源。   \n10820.0                传染源：新冠肺炎的患者。无症状感染者也可能成为传染源。   \n10820.0                传染源：新冠肺炎的患者。无症状感染者也可能成为传染源。   \n\n                                                              note3  \\\ncurrentConfirmedCount                                                 \n10821.0                传播途径：经呼吸道飞沫、接触传播是主要的传播途径。气溶胶传播和消化道等传播途径尚待明确。   \n10821.0                传播途径：经呼吸道飞沫、接触传播是主要的传播途径。气溶胶传播和消化道等传播途径尚待明确。   \n10820.0                传播途径：经呼吸道飞沫、接触传播是主要的传播途径。气溶胶传播和消化道等传播途径尚待明确。   \n10820.0                传播途径：经呼吸道飞沫、接触传播是主要的传播途径。气溶胶传播和消化道等传播途径尚待明确。   \n10820.0                传播途径：经呼吸道飞沫、接触传播是主要的传播途径。气溶胶传播和消化道等传播途径尚待明确。   \n\n                         updateTime  \ncurrentConfirmedCount                \n10821.0                1.584280e+12  \n10821.0                1.584280e+12  \n10820.0                1.584280e+12  \n10820.0                1.584280e+12  \n10820.0                1.584280e+12  ",
      "text/html": "<div>\n<style scoped>\n    .dataframe tbody tr th:only-of-type {\n        vertical-align: middle;\n    }\n\n    .dataframe tbody tr th {\n        vertical-align: top;\n    }\n\n    .dataframe thead th {\n        text-align: right;\n    }\n</style>\n<table border=\"1\" class=\"dataframe\">\n  <thead>\n    <tr style=\"text-align: right;\">\n      <th></th>\n      <th>confirmedCount</th>\n      <th>suspectedCount</th>\n      <th>curedCount</th>\n      <th>deadCount</th>\n      <th>seriousCount</th>\n      <th>currentConfirmedIncr</th>\n      <th>confirmedIncr</th>\n      <th>suspectedIncr</th>\n      <th>curedIncr</th>\n      <th>deadIncr</th>\n      <th>seriousIncr</th>\n      <th>remark1</th>\n      <th>remark2</th>\n      <th>remark3</th>\n      <th>remark4</th>\n      <th>remark5</th>\n      <th>note1</th>\n      <th>note2</th>\n      <th>note3</th>\n      <th>updateTime</th>\n    </tr>\n    <tr>\n      <th>currentConfirmedCount</th>\n      <th></th>\n      <th></th>\n      <th></th>\n      <th></th>\n      <th></th>\n      <th></th>\n      <th></th>\n      <th></th>\n      <th></th>\n      <th></th>\n      <th></th>\n      <th></th>\n      <th></th>\n      <th></th>\n      <th></th>\n      <th></th>\n      <th></th>\n      <th></th>\n      <th></th>\n      <th></th>\n    </tr>\n  </thead>\n  <tbody>\n    <tr>\n      <th>10821.0</th>\n      <td>81062</td>\n      <td>114</td>\n      <td>67037</td>\n      <td>3204</td>\n      <td>3226.0</td>\n      <td>-1357.0</td>\n      <td>41.0</td>\n      <td>19.0</td>\n      <td>1388.0</td>\n      <td>10.0</td>\n      <td>-384.0</td>\n      <td>易感人群：人群普遍易感。老年人及有基础疾病者感染后病情较重，儿童及婴幼儿也有发病</td>\n      <td>潜伏期：一般为 3～7 天，最长不超过 14 天，潜伏期内可能存在传染性，其中无症状病例传染...</td>\n      <td>宿主：野生动物，可能为中华菊头蝠</td>\n      <td>NaN</td>\n      <td>NaN</td>\n      <td>病毒：SARS-CoV-2，其导致疾病命名 COVID-19</td>\n      <td>传染源：新冠肺炎的患者。无症状感染者也可能成为传染源。</td>\n      <td>传播途径：经呼吸道飞沫、接触传播是主要的传播途径。气溶胶传播和消化道等传播途径尚待明确。</td>\n      <td>1.584280e+12</td>\n    </tr>\n    <tr>\n      <th>10821.0</th>\n      <td>81062</td>\n      <td>114</td>\n      <td>67037</td>\n      <td>3204</td>\n      <td>3226.0</td>\n      <td>-1357.0</td>\n      <td>41.0</td>\n      <td>19.0</td>\n      <td>1388.0</td>\n      <td>10.0</td>\n      <td>-384.0</td>\n      <td>易感人群：人群普遍易感。老年人及有基础疾病者感染后病情较重，儿童及婴幼儿也有发病</td>\n      <td>潜伏期：一般为 3～7 天，最长不超过 14 天，潜伏期内可能存在传染性，其中无症状病例传染...</td>\n      <td>宿主：野生动物，可能为中华菊头蝠</td>\n      <td>NaN</td>\n      <td>NaN</td>\n      <td>病毒：SARS-CoV-2，其导致疾病命名 COVID-19</td>\n      <td>传染源：新冠肺炎的患者。无症状感染者也可能成为传染源。</td>\n      <td>传播途径：经呼吸道飞沫、接触传播是主要的传播途径。气溶胶传播和消化道等传播途径尚待明确。</td>\n      <td>1.584280e+12</td>\n    </tr>\n    <tr>\n      <th>10820.0</th>\n      <td>81061</td>\n      <td>114</td>\n      <td>67037</td>\n      <td>3204</td>\n      <td>3226.0</td>\n      <td>-1358.0</td>\n      <td>40.0</td>\n      <td>19.0</td>\n      <td>1388.0</td>\n      <td>10.0</td>\n      <td>-384.0</td>\n      <td>易感人群：人群普遍易感。老年人及有基础疾病者感染后病情较重，儿童及婴幼儿也有发病</td>\n      <td>潜伏期：一般为 3～7 天，最长不超过 14 天，潜伏期内可能存在传染性，其中无症状病例传染...</td>\n      <td>宿主：野生动物，可能为中华菊头蝠</td>\n      <td>NaN</td>\n      <td>NaN</td>\n      <td>病毒：SARS-CoV-2，其导致疾病命名 COVID-19</td>\n      <td>传染源：新冠肺炎的患者。无症状感染者也可能成为传染源。</td>\n      <td>传播途径：经呼吸道飞沫、接触传播是主要的传播途径。气溶胶传播和消化道等传播途径尚待明确。</td>\n      <td>1.584280e+12</td>\n    </tr>\n    <tr>\n      <th>10820.0</th>\n      <td>81061</td>\n      <td>114</td>\n      <td>67037</td>\n      <td>3204</td>\n      <td>3226.0</td>\n      <td>-1358.0</td>\n      <td>40.0</td>\n      <td>19.0</td>\n      <td>1388.0</td>\n      <td>10.0</td>\n      <td>-384.0</td>\n      <td>易感人群：人群普遍易感。老年人及有基础疾病者感染后病情较重，儿童及婴幼儿也有发病</td>\n      <td>潜伏期：一般为 3～7 天，最长不超过 14 天，潜伏期内可能存在传染性，其中无症状病例传染...</td>\n      <td>宿主：野生动物，可能为中华菊头蝠</td>\n      <td>NaN</td>\n      <td>NaN</td>\n      <td>病毒：SARS-CoV-2，其导致疾病命名 COVID-19</td>\n      <td>传染源：新冠肺炎的患者。无症状感染者也可能成为传染源。</td>\n      <td>传播途径：经呼吸道飞沫、接触传播是主要的传播途径。气溶胶传播和消化道等传播途径尚待明确。</td>\n      <td>1.584280e+12</td>\n    </tr>\n    <tr>\n      <th>10820.0</th>\n      <td>81061</td>\n      <td>114</td>\n      <td>67037</td>\n      <td>3204</td>\n      <td>3226.0</td>\n      <td>-1358.0</td>\n      <td>40.0</td>\n      <td>19.0</td>\n      <td>1388.0</td>\n      <td>10.0</td>\n      <td>-384.0</td>\n      <td>易感人群：人群普遍易感。老年人及有基础疾病者感染后病情较重，儿童及婴幼儿也有发病</td>\n      <td>潜伏期：一般为 3～7 天，最长不超过 14 天，潜伏期内可能存在传染性，其中无症状病例传染...</td>\n      <td>宿主：野生动物，可能为中华菊头蝠</td>\n      <td>NaN</td>\n      <td>NaN</td>\n      <td>病毒：SARS-CoV-2，其导致疾病命名 COVID-19</td>\n      <td>传染源：新冠肺炎的患者。无症状感染者也可能成为传染源。</td>\n      <td>传播途径：经呼吸道飞沫、接触传播是主要的传播途径。气溶胶传播和消化道等传播途径尚待明确。</td>\n      <td>1.584280e+12</td>\n    </tr>\n  </tbody>\n</table>\n</div>"
     },
     "execution_count": 4,
     "metadata": {},
     "output_type": "execute_result"
    }
   ],
   "source": [
    "import pandas as pd\n",
    "\n",
    "raw_df = pd.read_csv(\"DXY-test.csv\", index_col=0,encoding='gbk')  #读取数据。index_col=0：读取时不自动添加行号。\n",
    "raw_df.head()"
   ]
  },
  {
   "cell_type": "markdown",
   "source": [],
   "metadata": {
    "collapsed": false
   },
   "id": "9af7792774f09776"
  },
  {
   "cell_type": "code",
   "outputs": [],
   "source": [
    "raw_data = raw_df"
   ],
   "metadata": {
    "collapsed": false
   },
   "id": "4d19a524f0309818"
  },
  {
   "cell_type": "code",
   "outputs": [
    {
     "data": {
      "text/plain": "currentConfirmedCount\n10821.0   NaN\n10821.0   NaN\n10820.0   NaN\n10820.0   NaN\n10820.0   NaN\n           ..\nNaN       NaN\nNaN       NaN\nNaN       NaN\nNaN       NaN\nNaN       NaN\nName: remark5, Length: 2451, dtype: float64"
     },
     "execution_count": 26,
     "metadata": {},
     "output_type": "execute_result"
    }
   ],
   "source": [
    "column_name = \"remark5\"\n",
    "raw_data = raw_data.drop([column_name], axis=1)  #删除指定标签列\n",
    "labels = raw_df[column_name]\n",
    "labels#标签"
   ],
   "metadata": {
    "collapsed": false,
    "ExecuteTime": {
     "end_time": "2024-04-01T15:48:37.106474Z",
     "start_time": "2024-04-01T15:48:37.101476Z"
    }
   },
   "id": "469c3d4426d79ed3",
   "execution_count": 26
  },
  {
   "cell_type": "code",
   "outputs": [
    {
     "data": {
      "text/plain": "                       confirmedCount  suspectedCount  curedCount  deadCount  \\\ncurrentConfirmedCount                                                          \n10821.0                         81062             114       67037       3204   \n10821.0                         81062             114       67037       3204   \n10820.0                         81061             114       67037       3204   \n10820.0                         81061             114       67037       3204   \n10820.0                         81061             114       67037       3204   \n...                               ...             ...         ...        ...   \nNaN                               894            1076          35         26   \nNaN                               887            1076          35         26   \nNaN                               887            1076          35         26   \nNaN                               887            1075          35         26   \nNaN                               887            1075          35         26   \n\n                       seriousCount  currentConfirmedIncr  confirmedIncr  \\\ncurrentConfirmedCount                                                      \n10821.0                      3226.0               -1357.0           41.0   \n10821.0                      3226.0               -1357.0           41.0   \n10820.0                      3226.0               -1358.0           40.0   \n10820.0                      3226.0               -1358.0           40.0   \n10820.0                      3226.0               -1358.0           40.0   \n...                             ...                   ...            ...   \nNaN                             NaN                   NaN            NaN   \nNaN                             NaN                   NaN            NaN   \nNaN                             NaN                   NaN            NaN   \nNaN                             NaN                   NaN            NaN   \nNaN                             NaN                   NaN            NaN   \n\n                       suspectedIncr  curedIncr  deadIncr  seriousIncr  \\\ncurrentConfirmedCount                                                    \n10821.0                         19.0     1388.0      10.0       -384.0   \n10821.0                         19.0     1388.0      10.0       -384.0   \n10820.0                         19.0     1388.0      10.0       -384.0   \n10820.0                         19.0     1388.0      10.0       -384.0   \n10820.0                         19.0     1388.0      10.0       -384.0   \n...                              ...        ...       ...          ...   \nNaN                              NaN        NaN       NaN          NaN   \nNaN                              NaN        NaN       NaN          NaN   \nNaN                              NaN        NaN       NaN          NaN   \nNaN                              NaN        NaN       NaN          NaN   \nNaN                              NaN        NaN       NaN          NaN   \n\n                         updateTime  \ncurrentConfirmedCount                \n10821.0                1.584280e+12  \n10821.0                1.584280e+12  \n10820.0                1.584280e+12  \n10820.0                1.584280e+12  \n10820.0                1.584280e+12  \n...                             ...  \nNaN                    1.579870e+12  \nNaN                    1.579860e+12  \nNaN                    1.579860e+12  \nNaN                    1.579860e+12  \nNaN                    1.579850e+12  \n\n[2451 rows x 12 columns]",
      "text/html": "<div>\n<style scoped>\n    .dataframe tbody tr th:only-of-type {\n        vertical-align: middle;\n    }\n\n    .dataframe tbody tr th {\n        vertical-align: top;\n    }\n\n    .dataframe thead th {\n        text-align: right;\n    }\n</style>\n<table border=\"1\" class=\"dataframe\">\n  <thead>\n    <tr style=\"text-align: right;\">\n      <th></th>\n      <th>confirmedCount</th>\n      <th>suspectedCount</th>\n      <th>curedCount</th>\n      <th>deadCount</th>\n      <th>seriousCount</th>\n      <th>currentConfirmedIncr</th>\n      <th>confirmedIncr</th>\n      <th>suspectedIncr</th>\n      <th>curedIncr</th>\n      <th>deadIncr</th>\n      <th>seriousIncr</th>\n      <th>updateTime</th>\n    </tr>\n    <tr>\n      <th>currentConfirmedCount</th>\n      <th></th>\n      <th></th>\n      <th></th>\n      <th></th>\n      <th></th>\n      <th></th>\n      <th></th>\n      <th></th>\n      <th></th>\n      <th></th>\n      <th></th>\n      <th></th>\n    </tr>\n  </thead>\n  <tbody>\n    <tr>\n      <th>10821.0</th>\n      <td>81062</td>\n      <td>114</td>\n      <td>67037</td>\n      <td>3204</td>\n      <td>3226.0</td>\n      <td>-1357.0</td>\n      <td>41.0</td>\n      <td>19.0</td>\n      <td>1388.0</td>\n      <td>10.0</td>\n      <td>-384.0</td>\n      <td>1.584280e+12</td>\n    </tr>\n    <tr>\n      <th>10821.0</th>\n      <td>81062</td>\n      <td>114</td>\n      <td>67037</td>\n      <td>3204</td>\n      <td>3226.0</td>\n      <td>-1357.0</td>\n      <td>41.0</td>\n      <td>19.0</td>\n      <td>1388.0</td>\n      <td>10.0</td>\n      <td>-384.0</td>\n      <td>1.584280e+12</td>\n    </tr>\n    <tr>\n      <th>10820.0</th>\n      <td>81061</td>\n      <td>114</td>\n      <td>67037</td>\n      <td>3204</td>\n      <td>3226.0</td>\n      <td>-1358.0</td>\n      <td>40.0</td>\n      <td>19.0</td>\n      <td>1388.0</td>\n      <td>10.0</td>\n      <td>-384.0</td>\n      <td>1.584280e+12</td>\n    </tr>\n    <tr>\n      <th>10820.0</th>\n      <td>81061</td>\n      <td>114</td>\n      <td>67037</td>\n      <td>3204</td>\n      <td>3226.0</td>\n      <td>-1358.0</td>\n      <td>40.0</td>\n      <td>19.0</td>\n      <td>1388.0</td>\n      <td>10.0</td>\n      <td>-384.0</td>\n      <td>1.584280e+12</td>\n    </tr>\n    <tr>\n      <th>10820.0</th>\n      <td>81061</td>\n      <td>114</td>\n      <td>67037</td>\n      <td>3204</td>\n      <td>3226.0</td>\n      <td>-1358.0</td>\n      <td>40.0</td>\n      <td>19.0</td>\n      <td>1388.0</td>\n      <td>10.0</td>\n      <td>-384.0</td>\n      <td>1.584280e+12</td>\n    </tr>\n    <tr>\n      <th>...</th>\n      <td>...</td>\n      <td>...</td>\n      <td>...</td>\n      <td>...</td>\n      <td>...</td>\n      <td>...</td>\n      <td>...</td>\n      <td>...</td>\n      <td>...</td>\n      <td>...</td>\n      <td>...</td>\n      <td>...</td>\n    </tr>\n    <tr>\n      <th>NaN</th>\n      <td>894</td>\n      <td>1076</td>\n      <td>35</td>\n      <td>26</td>\n      <td>NaN</td>\n      <td>NaN</td>\n      <td>NaN</td>\n      <td>NaN</td>\n      <td>NaN</td>\n      <td>NaN</td>\n      <td>NaN</td>\n      <td>1.579870e+12</td>\n    </tr>\n    <tr>\n      <th>NaN</th>\n      <td>887</td>\n      <td>1076</td>\n      <td>35</td>\n      <td>26</td>\n      <td>NaN</td>\n      <td>NaN</td>\n      <td>NaN</td>\n      <td>NaN</td>\n      <td>NaN</td>\n      <td>NaN</td>\n      <td>NaN</td>\n      <td>1.579860e+12</td>\n    </tr>\n    <tr>\n      <th>NaN</th>\n      <td>887</td>\n      <td>1076</td>\n      <td>35</td>\n      <td>26</td>\n      <td>NaN</td>\n      <td>NaN</td>\n      <td>NaN</td>\n      <td>NaN</td>\n      <td>NaN</td>\n      <td>NaN</td>\n      <td>NaN</td>\n      <td>1.579860e+12</td>\n    </tr>\n    <tr>\n      <th>NaN</th>\n      <td>887</td>\n      <td>1075</td>\n      <td>35</td>\n      <td>26</td>\n      <td>NaN</td>\n      <td>NaN</td>\n      <td>NaN</td>\n      <td>NaN</td>\n      <td>NaN</td>\n      <td>NaN</td>\n      <td>NaN</td>\n      <td>1.579860e+12</td>\n    </tr>\n    <tr>\n      <th>NaN</th>\n      <td>887</td>\n      <td>1075</td>\n      <td>35</td>\n      <td>26</td>\n      <td>NaN</td>\n      <td>NaN</td>\n      <td>NaN</td>\n      <td>NaN</td>\n      <td>NaN</td>\n      <td>NaN</td>\n      <td>NaN</td>\n      <td>1.579850e+12</td>\n    </tr>\n  </tbody>\n</table>\n<p>2451 rows × 12 columns</p>\n</div>"
     },
     "execution_count": 27,
     "metadata": {},
     "output_type": "execute_result"
    }
   ],
   "source": [
    "raw_data"
   ],
   "metadata": {
    "collapsed": false,
    "ExecuteTime": {
     "end_time": "2024-04-01T15:49:02.106030Z",
     "start_time": "2024-04-01T15:49:02.093588Z"
    }
   },
   "id": "9d2d06d416bf5c29",
   "execution_count": 27
  },
  {
   "cell_type": "markdown",
   "source": [
    "### 无量纲化"
   ],
   "metadata": {
    "collapsed": false
   },
   "id": "a62ce836bc9fec31"
  },
  {
   "cell_type": "code",
   "outputs": [
    {
     "ename": "ValueError",
     "evalue": "could not convert string to float: '易感人群：人群普遍易感。老年人及有基础疾病者感染后病情较重，儿童及婴幼儿也有发病'",
     "output_type": "error",
     "traceback": [
      "\u001B[1;31m---------------------------------------------------------------------------\u001B[0m",
      "\u001B[1;31mValueError\u001B[0m                                Traceback (most recent call last)",
      "Cell \u001B[1;32mIn[9], line 4\u001B[0m\n\u001B[0;32m      1\u001B[0m \u001B[38;5;28;01mfrom\u001B[39;00m \u001B[38;5;21;01msklearn\u001B[39;00m\u001B[38;5;21;01m.\u001B[39;00m\u001B[38;5;21;01mpreprocessing\u001B[39;00m \u001B[38;5;28;01mimport\u001B[39;00m StandardScaler\n\u001B[0;32m      3\u001B[0m sc_X \u001B[38;5;241m=\u001B[39m StandardScaler(copy\u001B[38;5;241m=\u001B[39m\u001B[38;5;28;01mTrue\u001B[39;00m)\n\u001B[1;32m----> 4\u001B[0m data \u001B[38;5;241m=\u001B[39m pd\u001B[38;5;241m.\u001B[39mDataFrame(\u001B[43msc_X\u001B[49m\u001B[38;5;241;43m.\u001B[39;49m\u001B[43mfit_transform\u001B[49m\u001B[43m(\u001B[49m\u001B[43mraw_data\u001B[49m\u001B[43m)\u001B[49m)\n\u001B[0;32m      5\u001B[0m data\n",
      "File \u001B[1;32mH:\\Documents\\Prometheus\\Python\\SocialMediaApplication\\P03preprocess\\.venv\\Lib\\site-packages\\sklearn\\utils\\_set_output.py:295\u001B[0m, in \u001B[0;36m_wrap_method_output.<locals>.wrapped\u001B[1;34m(self, X, *args, **kwargs)\u001B[0m\n\u001B[0;32m    293\u001B[0m \u001B[38;5;129m@wraps\u001B[39m(f)\n\u001B[0;32m    294\u001B[0m \u001B[38;5;28;01mdef\u001B[39;00m \u001B[38;5;21mwrapped\u001B[39m(\u001B[38;5;28mself\u001B[39m, X, \u001B[38;5;241m*\u001B[39margs, \u001B[38;5;241m*\u001B[39m\u001B[38;5;241m*\u001B[39mkwargs):\n\u001B[1;32m--> 295\u001B[0m     data_to_wrap \u001B[38;5;241m=\u001B[39m \u001B[43mf\u001B[49m\u001B[43m(\u001B[49m\u001B[38;5;28;43mself\u001B[39;49m\u001B[43m,\u001B[49m\u001B[43m \u001B[49m\u001B[43mX\u001B[49m\u001B[43m,\u001B[49m\u001B[43m \u001B[49m\u001B[38;5;241;43m*\u001B[39;49m\u001B[43margs\u001B[49m\u001B[43m,\u001B[49m\u001B[43m \u001B[49m\u001B[38;5;241;43m*\u001B[39;49m\u001B[38;5;241;43m*\u001B[39;49m\u001B[43mkwargs\u001B[49m\u001B[43m)\u001B[49m\n\u001B[0;32m    296\u001B[0m     \u001B[38;5;28;01mif\u001B[39;00m \u001B[38;5;28misinstance\u001B[39m(data_to_wrap, \u001B[38;5;28mtuple\u001B[39m):\n\u001B[0;32m    297\u001B[0m         \u001B[38;5;66;03m# only wrap the first output for cross decomposition\u001B[39;00m\n\u001B[0;32m    298\u001B[0m         return_tuple \u001B[38;5;241m=\u001B[39m (\n\u001B[0;32m    299\u001B[0m             _wrap_data_with_container(method, data_to_wrap[\u001B[38;5;241m0\u001B[39m], X, \u001B[38;5;28mself\u001B[39m),\n\u001B[0;32m    300\u001B[0m             \u001B[38;5;241m*\u001B[39mdata_to_wrap[\u001B[38;5;241m1\u001B[39m:],\n\u001B[0;32m    301\u001B[0m         )\n",
      "File \u001B[1;32mH:\\Documents\\Prometheus\\Python\\SocialMediaApplication\\P03preprocess\\.venv\\Lib\\site-packages\\sklearn\\base.py:1098\u001B[0m, in \u001B[0;36mTransformerMixin.fit_transform\u001B[1;34m(self, X, y, **fit_params)\u001B[0m\n\u001B[0;32m   1083\u001B[0m         warnings\u001B[38;5;241m.\u001B[39mwarn(\n\u001B[0;32m   1084\u001B[0m             (\n\u001B[0;32m   1085\u001B[0m                 \u001B[38;5;124mf\u001B[39m\u001B[38;5;124m\"\u001B[39m\u001B[38;5;124mThis object (\u001B[39m\u001B[38;5;132;01m{\u001B[39;00m\u001B[38;5;28mself\u001B[39m\u001B[38;5;241m.\u001B[39m\u001B[38;5;18m__class__\u001B[39m\u001B[38;5;241m.\u001B[39m\u001B[38;5;18m__name__\u001B[39m\u001B[38;5;132;01m}\u001B[39;00m\u001B[38;5;124m) has a `transform`\u001B[39m\u001B[38;5;124m\"\u001B[39m\n\u001B[1;32m   (...)\u001B[0m\n\u001B[0;32m   1093\u001B[0m             \u001B[38;5;167;01mUserWarning\u001B[39;00m,\n\u001B[0;32m   1094\u001B[0m         )\n\u001B[0;32m   1096\u001B[0m \u001B[38;5;28;01mif\u001B[39;00m y \u001B[38;5;129;01mis\u001B[39;00m \u001B[38;5;28;01mNone\u001B[39;00m:\n\u001B[0;32m   1097\u001B[0m     \u001B[38;5;66;03m# fit method of arity 1 (unsupervised transformation)\u001B[39;00m\n\u001B[1;32m-> 1098\u001B[0m     \u001B[38;5;28;01mreturn\u001B[39;00m \u001B[38;5;28;43mself\u001B[39;49m\u001B[38;5;241;43m.\u001B[39;49m\u001B[43mfit\u001B[49m\u001B[43m(\u001B[49m\u001B[43mX\u001B[49m\u001B[43m,\u001B[49m\u001B[43m \u001B[49m\u001B[38;5;241;43m*\u001B[39;49m\u001B[38;5;241;43m*\u001B[39;49m\u001B[43mfit_params\u001B[49m\u001B[43m)\u001B[49m\u001B[38;5;241m.\u001B[39mtransform(X)\n\u001B[0;32m   1099\u001B[0m \u001B[38;5;28;01melse\u001B[39;00m:\n\u001B[0;32m   1100\u001B[0m     \u001B[38;5;66;03m# fit method of arity 2 (supervised transformation)\u001B[39;00m\n\u001B[0;32m   1101\u001B[0m     \u001B[38;5;28;01mreturn\u001B[39;00m \u001B[38;5;28mself\u001B[39m\u001B[38;5;241m.\u001B[39mfit(X, y, \u001B[38;5;241m*\u001B[39m\u001B[38;5;241m*\u001B[39mfit_params)\u001B[38;5;241m.\u001B[39mtransform(X)\n",
      "File \u001B[1;32mH:\\Documents\\Prometheus\\Python\\SocialMediaApplication\\P03preprocess\\.venv\\Lib\\site-packages\\sklearn\\preprocessing\\_data.py:876\u001B[0m, in \u001B[0;36mStandardScaler.fit\u001B[1;34m(self, X, y, sample_weight)\u001B[0m\n\u001B[0;32m    874\u001B[0m \u001B[38;5;66;03m# Reset internal state before fitting\u001B[39;00m\n\u001B[0;32m    875\u001B[0m \u001B[38;5;28mself\u001B[39m\u001B[38;5;241m.\u001B[39m_reset()\n\u001B[1;32m--> 876\u001B[0m \u001B[38;5;28;01mreturn\u001B[39;00m \u001B[38;5;28;43mself\u001B[39;49m\u001B[38;5;241;43m.\u001B[39;49m\u001B[43mpartial_fit\u001B[49m\u001B[43m(\u001B[49m\u001B[43mX\u001B[49m\u001B[43m,\u001B[49m\u001B[43m \u001B[49m\u001B[43my\u001B[49m\u001B[43m,\u001B[49m\u001B[43m \u001B[49m\u001B[43msample_weight\u001B[49m\u001B[43m)\u001B[49m\n",
      "File \u001B[1;32mH:\\Documents\\Prometheus\\Python\\SocialMediaApplication\\P03preprocess\\.venv\\Lib\\site-packages\\sklearn\\base.py:1474\u001B[0m, in \u001B[0;36m_fit_context.<locals>.decorator.<locals>.wrapper\u001B[1;34m(estimator, *args, **kwargs)\u001B[0m\n\u001B[0;32m   1467\u001B[0m     estimator\u001B[38;5;241m.\u001B[39m_validate_params()\n\u001B[0;32m   1469\u001B[0m \u001B[38;5;28;01mwith\u001B[39;00m config_context(\n\u001B[0;32m   1470\u001B[0m     skip_parameter_validation\u001B[38;5;241m=\u001B[39m(\n\u001B[0;32m   1471\u001B[0m         prefer_skip_nested_validation \u001B[38;5;129;01mor\u001B[39;00m global_skip_validation\n\u001B[0;32m   1472\u001B[0m     )\n\u001B[0;32m   1473\u001B[0m ):\n\u001B[1;32m-> 1474\u001B[0m     \u001B[38;5;28;01mreturn\u001B[39;00m \u001B[43mfit_method\u001B[49m\u001B[43m(\u001B[49m\u001B[43mestimator\u001B[49m\u001B[43m,\u001B[49m\u001B[43m \u001B[49m\u001B[38;5;241;43m*\u001B[39;49m\u001B[43margs\u001B[49m\u001B[43m,\u001B[49m\u001B[43m \u001B[49m\u001B[38;5;241;43m*\u001B[39;49m\u001B[38;5;241;43m*\u001B[39;49m\u001B[43mkwargs\u001B[49m\u001B[43m)\u001B[49m\n",
      "File \u001B[1;32mH:\\Documents\\Prometheus\\Python\\SocialMediaApplication\\P03preprocess\\.venv\\Lib\\site-packages\\sklearn\\preprocessing\\_data.py:912\u001B[0m, in \u001B[0;36mStandardScaler.partial_fit\u001B[1;34m(self, X, y, sample_weight)\u001B[0m\n\u001B[0;32m    880\u001B[0m \u001B[38;5;250m\u001B[39m\u001B[38;5;124;03m\"\"\"Online computation of mean and std on X for later scaling.\u001B[39;00m\n\u001B[0;32m    881\u001B[0m \n\u001B[0;32m    882\u001B[0m \u001B[38;5;124;03mAll of X is processed as a single batch. This is intended for cases\u001B[39;00m\n\u001B[1;32m   (...)\u001B[0m\n\u001B[0;32m    909\u001B[0m \u001B[38;5;124;03m    Fitted scaler.\u001B[39;00m\n\u001B[0;32m    910\u001B[0m \u001B[38;5;124;03m\"\"\"\u001B[39;00m\n\u001B[0;32m    911\u001B[0m first_call \u001B[38;5;241m=\u001B[39m \u001B[38;5;129;01mnot\u001B[39;00m \u001B[38;5;28mhasattr\u001B[39m(\u001B[38;5;28mself\u001B[39m, \u001B[38;5;124m\"\u001B[39m\u001B[38;5;124mn_samples_seen_\u001B[39m\u001B[38;5;124m\"\u001B[39m)\n\u001B[1;32m--> 912\u001B[0m X \u001B[38;5;241m=\u001B[39m \u001B[38;5;28;43mself\u001B[39;49m\u001B[38;5;241;43m.\u001B[39;49m\u001B[43m_validate_data\u001B[49m\u001B[43m(\u001B[49m\n\u001B[0;32m    913\u001B[0m \u001B[43m    \u001B[49m\u001B[43mX\u001B[49m\u001B[43m,\u001B[49m\n\u001B[0;32m    914\u001B[0m \u001B[43m    \u001B[49m\u001B[43maccept_sparse\u001B[49m\u001B[38;5;241;43m=\u001B[39;49m\u001B[43m(\u001B[49m\u001B[38;5;124;43m\"\u001B[39;49m\u001B[38;5;124;43mcsr\u001B[39;49m\u001B[38;5;124;43m\"\u001B[39;49m\u001B[43m,\u001B[49m\u001B[43m \u001B[49m\u001B[38;5;124;43m\"\u001B[39;49m\u001B[38;5;124;43mcsc\u001B[39;49m\u001B[38;5;124;43m\"\u001B[39;49m\u001B[43m)\u001B[49m\u001B[43m,\u001B[49m\n\u001B[0;32m    915\u001B[0m \u001B[43m    \u001B[49m\u001B[43mdtype\u001B[49m\u001B[38;5;241;43m=\u001B[39;49m\u001B[43mFLOAT_DTYPES\u001B[49m\u001B[43m,\u001B[49m\n\u001B[0;32m    916\u001B[0m \u001B[43m    \u001B[49m\u001B[43mforce_all_finite\u001B[49m\u001B[38;5;241;43m=\u001B[39;49m\u001B[38;5;124;43m\"\u001B[39;49m\u001B[38;5;124;43mallow-nan\u001B[39;49m\u001B[38;5;124;43m\"\u001B[39;49m\u001B[43m,\u001B[49m\n\u001B[0;32m    917\u001B[0m \u001B[43m    \u001B[49m\u001B[43mreset\u001B[49m\u001B[38;5;241;43m=\u001B[39;49m\u001B[43mfirst_call\u001B[49m\u001B[43m,\u001B[49m\n\u001B[0;32m    918\u001B[0m \u001B[43m\u001B[49m\u001B[43m)\u001B[49m\n\u001B[0;32m    919\u001B[0m n_features \u001B[38;5;241m=\u001B[39m X\u001B[38;5;241m.\u001B[39mshape[\u001B[38;5;241m1\u001B[39m]\n\u001B[0;32m    921\u001B[0m \u001B[38;5;28;01mif\u001B[39;00m sample_weight \u001B[38;5;129;01mis\u001B[39;00m \u001B[38;5;129;01mnot\u001B[39;00m \u001B[38;5;28;01mNone\u001B[39;00m:\n",
      "File \u001B[1;32mH:\\Documents\\Prometheus\\Python\\SocialMediaApplication\\P03preprocess\\.venv\\Lib\\site-packages\\sklearn\\base.py:633\u001B[0m, in \u001B[0;36mBaseEstimator._validate_data\u001B[1;34m(self, X, y, reset, validate_separately, cast_to_ndarray, **check_params)\u001B[0m\n\u001B[0;32m    631\u001B[0m         out \u001B[38;5;241m=\u001B[39m X, y\n\u001B[0;32m    632\u001B[0m \u001B[38;5;28;01melif\u001B[39;00m \u001B[38;5;129;01mnot\u001B[39;00m no_val_X \u001B[38;5;129;01mand\u001B[39;00m no_val_y:\n\u001B[1;32m--> 633\u001B[0m     out \u001B[38;5;241m=\u001B[39m \u001B[43mcheck_array\u001B[49m\u001B[43m(\u001B[49m\u001B[43mX\u001B[49m\u001B[43m,\u001B[49m\u001B[43m \u001B[49m\u001B[43minput_name\u001B[49m\u001B[38;5;241;43m=\u001B[39;49m\u001B[38;5;124;43m\"\u001B[39;49m\u001B[38;5;124;43mX\u001B[39;49m\u001B[38;5;124;43m\"\u001B[39;49m\u001B[43m,\u001B[49m\u001B[43m \u001B[49m\u001B[38;5;241;43m*\u001B[39;49m\u001B[38;5;241;43m*\u001B[39;49m\u001B[43mcheck_params\u001B[49m\u001B[43m)\u001B[49m\n\u001B[0;32m    634\u001B[0m \u001B[38;5;28;01melif\u001B[39;00m no_val_X \u001B[38;5;129;01mand\u001B[39;00m \u001B[38;5;129;01mnot\u001B[39;00m no_val_y:\n\u001B[0;32m    635\u001B[0m     out \u001B[38;5;241m=\u001B[39m _check_y(y, \u001B[38;5;241m*\u001B[39m\u001B[38;5;241m*\u001B[39mcheck_params)\n",
      "File \u001B[1;32mH:\\Documents\\Prometheus\\Python\\SocialMediaApplication\\P03preprocess\\.venv\\Lib\\site-packages\\sklearn\\utils\\validation.py:997\u001B[0m, in \u001B[0;36mcheck_array\u001B[1;34m(array, accept_sparse, accept_large_sparse, dtype, order, copy, force_all_finite, ensure_2d, allow_nd, ensure_min_samples, ensure_min_features, estimator, input_name)\u001B[0m\n\u001B[0;32m    995\u001B[0m         array \u001B[38;5;241m=\u001B[39m xp\u001B[38;5;241m.\u001B[39mastype(array, dtype, copy\u001B[38;5;241m=\u001B[39m\u001B[38;5;28;01mFalse\u001B[39;00m)\n\u001B[0;32m    996\u001B[0m     \u001B[38;5;28;01melse\u001B[39;00m:\n\u001B[1;32m--> 997\u001B[0m         array \u001B[38;5;241m=\u001B[39m \u001B[43m_asarray_with_order\u001B[49m\u001B[43m(\u001B[49m\u001B[43marray\u001B[49m\u001B[43m,\u001B[49m\u001B[43m \u001B[49m\u001B[43morder\u001B[49m\u001B[38;5;241;43m=\u001B[39;49m\u001B[43morder\u001B[49m\u001B[43m,\u001B[49m\u001B[43m \u001B[49m\u001B[43mdtype\u001B[49m\u001B[38;5;241;43m=\u001B[39;49m\u001B[43mdtype\u001B[49m\u001B[43m,\u001B[49m\u001B[43m \u001B[49m\u001B[43mxp\u001B[49m\u001B[38;5;241;43m=\u001B[39;49m\u001B[43mxp\u001B[49m\u001B[43m)\u001B[49m\n\u001B[0;32m    998\u001B[0m \u001B[38;5;28;01mexcept\u001B[39;00m ComplexWarning \u001B[38;5;28;01mas\u001B[39;00m complex_warning:\n\u001B[0;32m    999\u001B[0m     \u001B[38;5;28;01mraise\u001B[39;00m \u001B[38;5;167;01mValueError\u001B[39;00m(\n\u001B[0;32m   1000\u001B[0m         \u001B[38;5;124m\"\u001B[39m\u001B[38;5;124mComplex data not supported\u001B[39m\u001B[38;5;130;01m\\n\u001B[39;00m\u001B[38;5;132;01m{}\u001B[39;00m\u001B[38;5;130;01m\\n\u001B[39;00m\u001B[38;5;124m\"\u001B[39m\u001B[38;5;241m.\u001B[39mformat(array)\n\u001B[0;32m   1001\u001B[0m     ) \u001B[38;5;28;01mfrom\u001B[39;00m \u001B[38;5;21;01mcomplex_warning\u001B[39;00m\n",
      "File \u001B[1;32mH:\\Documents\\Prometheus\\Python\\SocialMediaApplication\\P03preprocess\\.venv\\Lib\\site-packages\\sklearn\\utils\\_array_api.py:521\u001B[0m, in \u001B[0;36m_asarray_with_order\u001B[1;34m(array, dtype, order, copy, xp)\u001B[0m\n\u001B[0;32m    519\u001B[0m     array \u001B[38;5;241m=\u001B[39m numpy\u001B[38;5;241m.\u001B[39marray(array, order\u001B[38;5;241m=\u001B[39morder, dtype\u001B[38;5;241m=\u001B[39mdtype)\n\u001B[0;32m    520\u001B[0m \u001B[38;5;28;01melse\u001B[39;00m:\n\u001B[1;32m--> 521\u001B[0m     array \u001B[38;5;241m=\u001B[39m \u001B[43mnumpy\u001B[49m\u001B[38;5;241;43m.\u001B[39;49m\u001B[43masarray\u001B[49m\u001B[43m(\u001B[49m\u001B[43marray\u001B[49m\u001B[43m,\u001B[49m\u001B[43m \u001B[49m\u001B[43morder\u001B[49m\u001B[38;5;241;43m=\u001B[39;49m\u001B[43morder\u001B[49m\u001B[43m,\u001B[49m\u001B[43m \u001B[49m\u001B[43mdtype\u001B[49m\u001B[38;5;241;43m=\u001B[39;49m\u001B[43mdtype\u001B[49m\u001B[43m)\u001B[49m\n\u001B[0;32m    523\u001B[0m \u001B[38;5;66;03m# At this point array is a NumPy ndarray. We convert it to an array\u001B[39;00m\n\u001B[0;32m    524\u001B[0m \u001B[38;5;66;03m# container that is consistent with the input's namespace.\u001B[39;00m\n\u001B[0;32m    525\u001B[0m \u001B[38;5;28;01mreturn\u001B[39;00m xp\u001B[38;5;241m.\u001B[39masarray(array)\n",
      "File \u001B[1;32mH:\\Documents\\Prometheus\\Python\\SocialMediaApplication\\P03preprocess\\.venv\\Lib\\site-packages\\pandas\\core\\generic.py:2150\u001B[0m, in \u001B[0;36mNDFrame.__array__\u001B[1;34m(self, dtype)\u001B[0m\n\u001B[0;32m   2148\u001B[0m \u001B[38;5;28;01mdef\u001B[39;00m \u001B[38;5;21m__array__\u001B[39m(\u001B[38;5;28mself\u001B[39m, dtype: npt\u001B[38;5;241m.\u001B[39mDTypeLike \u001B[38;5;241m|\u001B[39m \u001B[38;5;28;01mNone\u001B[39;00m \u001B[38;5;241m=\u001B[39m \u001B[38;5;28;01mNone\u001B[39;00m) \u001B[38;5;241m-\u001B[39m\u001B[38;5;241m>\u001B[39m np\u001B[38;5;241m.\u001B[39mndarray:\n\u001B[0;32m   2149\u001B[0m     values \u001B[38;5;241m=\u001B[39m \u001B[38;5;28mself\u001B[39m\u001B[38;5;241m.\u001B[39m_values\n\u001B[1;32m-> 2150\u001B[0m     arr \u001B[38;5;241m=\u001B[39m \u001B[43mnp\u001B[49m\u001B[38;5;241;43m.\u001B[39;49m\u001B[43masarray\u001B[49m\u001B[43m(\u001B[49m\u001B[43mvalues\u001B[49m\u001B[43m,\u001B[49m\u001B[43m \u001B[49m\u001B[43mdtype\u001B[49m\u001B[38;5;241;43m=\u001B[39;49m\u001B[43mdtype\u001B[49m\u001B[43m)\u001B[49m\n\u001B[0;32m   2151\u001B[0m     \u001B[38;5;28;01mif\u001B[39;00m (\n\u001B[0;32m   2152\u001B[0m         astype_is_view(values\u001B[38;5;241m.\u001B[39mdtype, arr\u001B[38;5;241m.\u001B[39mdtype)\n\u001B[0;32m   2153\u001B[0m         \u001B[38;5;129;01mand\u001B[39;00m using_copy_on_write()\n\u001B[0;32m   2154\u001B[0m         \u001B[38;5;129;01mand\u001B[39;00m \u001B[38;5;28mself\u001B[39m\u001B[38;5;241m.\u001B[39m_mgr\u001B[38;5;241m.\u001B[39mis_single_block\n\u001B[0;32m   2155\u001B[0m     ):\n\u001B[0;32m   2156\u001B[0m         \u001B[38;5;66;03m# Check if both conversions can be done without a copy\u001B[39;00m\n\u001B[0;32m   2157\u001B[0m         \u001B[38;5;28;01mif\u001B[39;00m astype_is_view(\u001B[38;5;28mself\u001B[39m\u001B[38;5;241m.\u001B[39mdtypes\u001B[38;5;241m.\u001B[39miloc[\u001B[38;5;241m0\u001B[39m], values\u001B[38;5;241m.\u001B[39mdtype) \u001B[38;5;129;01mand\u001B[39;00m astype_is_view(\n\u001B[0;32m   2158\u001B[0m             values\u001B[38;5;241m.\u001B[39mdtype, arr\u001B[38;5;241m.\u001B[39mdtype\n\u001B[0;32m   2159\u001B[0m         ):\n",
      "\u001B[1;31mValueError\u001B[0m: could not convert string to float: '易感人群：人群普遍易感。老年人及有基础疾病者感染后病情较重，儿童及婴幼儿也有发病'"
     ]
    }
   ],
   "source": [
    "from sklearn.preprocessing import StandardScaler\n",
    "\n",
    "sc_X = StandardScaler(copy=True)\n",
    "data = pd.DataFrame(sc_X.fit_transform(raw_data))\n",
    "data"
   ],
   "metadata": {
    "collapsed": false,
    "ExecuteTime": {
     "end_time": "2024-04-01T15:46:07.624056Z",
     "start_time": "2024-04-01T15:46:07.548319Z"
    }
   },
   "id": "eb635994c0e832dd",
   "execution_count": 9
  },
  {
   "cell_type": "markdown",
   "source": [
    "### 方差选择法"
   ],
   "metadata": {
    "collapsed": false
   },
   "id": "44aeb20201ed519e"
  },
  {
   "cell_type": "code",
   "outputs": [],
   "source": [
    "\n",
    "from sklearn.feature_selection import VarianceThreshold\n",
    "\n",
    "#这里我们使用原始数据\n",
    "data_after_var = VarianceThreshold(threshold=0.01).fit_transform(raw_data, labels)  #使用阈值 0.01 进行选择\n",
    "data_after_var.shape"
   ],
   "metadata": {
    "collapsed": false
   },
   "id": "8bb15e78456ce77c"
  },
  {
   "cell_type": "code",
   "outputs": [],
   "source": [
    "data_after_var = pd.concat([pd.DataFrame(data_after_var), labels], axis=1)\n",
    "data_after_var.to_csv(\"data_after_var\")"
   ],
   "metadata": {
    "collapsed": false
   },
   "id": "c4b88b08c618bbaa"
  },
  {
   "cell_type": "markdown",
   "source": [
    "### 皮尔森关系系数"
   ],
   "metadata": {
    "collapsed": false
   },
   "id": "8f8d9c7dfa7ef5b4"
  },
  {
   "cell_type": "code",
   "outputs": [
    {
     "ename": "NameError",
     "evalue": "name 'raw_data' is not defined",
     "output_type": "error",
     "traceback": [
      "\u001B[1;31m---------------------------------------------------------------------------\u001B[0m",
      "\u001B[1;31mNameError\u001B[0m                                 Traceback (most recent call last)",
      "Cell \u001B[1;32mIn[2], line 1\u001B[0m\n\u001B[1;32m----> 1\u001B[0m data_numerical \u001B[38;5;241m=\u001B[39m\u001B[43mraw_data\u001B[49m[[\u001B[38;5;124m\"\u001B[39m\u001B[38;5;124msuspectedCount\u001B[39m\u001B[38;5;124m\"\u001B[39m,\u001B[38;5;124m\"\u001B[39m\u001B[38;5;124mcuredCount\u001B[39m\u001B[38;5;124m\"\u001B[39m,\u001B[38;5;124m\"\u001B[39m\u001B[38;5;124mdeadCount\u001B[39m\u001B[38;5;124m\"\u001B[39m]]\n\u001B[0;32m      2\u001B[0m data_numerical\n",
      "\u001B[1;31mNameError\u001B[0m: name 'raw_data' is not defined"
     ]
    }
   ],
   "source": [
    "data_numerical = raw_data[[\"suspectedCount\", \"curedCount\", \"deadCount\"]]\n",
    "data_numerical"
   ],
   "metadata": {
    "collapsed": false,
    "ExecuteTime": {
     "end_time": "2024-03-26T10:10:54.384684Z",
     "start_time": "2024-03-26T10:10:53.927628Z"
    }
   },
   "id": "2acb389988ad24e0",
   "execution_count": 2
  },
  {
   "cell_type": "code",
   "outputs": [],
   "source": [
    "from sklearn.feature_selection import SelectKBest\n",
    "from scipy.stats import pearsonr\n",
    "\n",
    "print(pearsonr(data_numerical[\"suspectedCount\"], labels))\n",
    "print(pearsonr(data_numerical[\"curedCount\"], labels))\n",
    "print(pearsonr(data_numerical[\"deadCount\"], labels))"
   ],
   "metadata": {
    "collapsed": false
   },
   "id": "e23e60f553faeaf5"
  },
  {
   "cell_type": "code",
   "outputs": [
    {
     "ename": "NameError",
     "evalue": "name 'SelectKBest' is not defined",
     "output_type": "error",
     "traceback": [
      "\u001B[1;31m---------------------------------------------------------------------------\u001B[0m",
      "\u001B[1;31mNameError\u001B[0m                                 Traceback (most recent call last)",
      "Cell \u001B[1;32mIn[3], line 3\u001B[0m\n\u001B[0;32m      1\u001B[0m \u001B[38;5;28;01mimport\u001B[39;00m \u001B[38;5;21;01mnumpy\u001B[39;00m \u001B[38;5;28;01mas\u001B[39;00m \u001B[38;5;21;01mnp\u001B[39;00m\n\u001B[1;32m----> 3\u001B[0m data_numerical \u001B[38;5;241m=\u001B[39m \u001B[43mSelectKBest\u001B[49m(\u001B[38;5;28;01mlambda\u001B[39;00m X, Y: np\u001B[38;5;241m.\u001B[39marray(\u001B[38;5;28mlist\u001B[39m(\u001B[38;5;28mmap\u001B[39m(\u001B[38;5;28;01mlambda\u001B[39;00m\n\u001B[0;32m      4\u001B[0m                                                                 x: pearsonr(x, Y), X\u001B[38;5;241m.\u001B[39mT)))\u001B[38;5;241m.\u001B[39mT[\u001B[38;5;241m0\u001B[39m], k\u001B[38;5;241m=\u001B[39m\u001B[38;5;241m2\u001B[39m)\u001B[38;5;241m.\u001B[39mfit_transform(\n\u001B[0;32m      5\u001B[0m     data_numerical, labels)\n\u001B[0;32m      6\u001B[0m data_numerical \u001B[38;5;241m=\u001B[39m pd\u001B[38;5;241m.\u001B[39mDataFrame(data_numerical, columns\u001B[38;5;241m=\u001B[39m{\u001B[38;5;124m\"\u001B[39m\u001B[38;5;124mfeature1\u001B[39m\u001B[38;5;124m\"\u001B[39m, \u001B[38;5;124m\"\u001B[39m\u001B[38;5;124mfeature2\u001B[39m\u001B[38;5;124m\"\u001B[39m})\n",
      "\u001B[1;31mNameError\u001B[0m: name 'SelectKBest' is not defined"
     ]
    }
   ],
   "source": [
    "import numpy as np\n",
    "\n",
    "data_numerical = SelectKBest(lambda X, Y: np.array(list(map(lambda\n",
    "                                                                x: pearsonr(x, Y), X.T))).T[0], k=2).fit_transform(\n",
    "    data_numerical, labels)\n",
    "data_numerical = pd.DataFrame(data_numerical, columns={\"feature1\", \"feature2\"})\n",
    "data_numerical"
   ],
   "metadata": {
    "collapsed": false,
    "ExecuteTime": {
     "end_time": "2024-03-26T10:11:40.965549Z",
     "start_time": "2024-03-26T10:11:40.946857Z"
    }
   },
   "id": "adafbfd3bb7d0551",
   "execution_count": 3
  },
  {
   "cell_type": "code",
   "outputs": [],
   "source": [],
   "metadata": {
    "collapsed": false
   },
   "id": "b5244f8e6e5372d3"
  },
  {
   "cell_type": "markdown",
   "source": [
    "# 降维"
   ],
   "metadata": {
    "collapsed": false
   },
   "id": "f9d6b8a4ba1d9f8a"
  },
  {
   "cell_type": "markdown",
   "source": [
    "## PCA实现"
   ],
   "metadata": {
    "collapsed": false
   },
   "id": "37a18f2cc8508636"
  },
  {
   "cell_type": "code",
   "outputs": [],
   "source": [
    "from sklearn.decomposition import PCA\n",
    "\n",
    "pca = PCA(n_components=0.85)\n",
    "data_after_pca = pd.DataFrame(pca.fit_transform(data))\n",
    "data_after_pca"
   ],
   "metadata": {
    "collapsed": false
   },
   "id": "ae6e71ae38e3a96e"
  },
  {
   "cell_type": "markdown",
   "source": [
    "## 可视化"
   ],
   "metadata": {
    "collapsed": false
   },
   "id": "a8acfc818f889ea7"
  },
  {
   "cell_type": "code",
   "outputs": [],
   "source": [
    "scaled_labels = pd.DataFrame(labels.astype(\"int\"), columns={\"rating\"})\n",
    "data_after_pca_withlabels = pd.concat([data_after_pca, labels], axis=1)\n",
    "data_after_pca_withlabels.to_csv(\"after_pca.csv\")\n",
    "data_after_pca_withlabels"
   ],
   "metadata": {
    "collapsed": false
   },
   "id": "840aef45c5e1801a"
  },
  {
   "cell_type": "code",
   "outputs": [],
   "source": [
    "import matplotlib.pyplot as plt\n",
    "\n",
    "\n",
    "def draw_graph(X):\n",
    "    for i in range(2):\n",
    "        plt.scatter(data_after_pca_withlabels.loc[data_after_pca_withlabels.rating == i, 0],\n",
    "                    data_after_pca_withlabels.loc[data_after_pca_withlabels.rating == i, 1], alpha=0.8,\n",
    "                    label='%s' % i)\n",
    "    plt.legend()\n",
    "    plt.show()\n",
    "\n",
    "\n",
    "draw_graph(data)"
   ],
   "metadata": {
    "collapsed": false
   },
   "id": "6a4f8ec8995760c2"
  }
 ],
 "metadata": {
  "kernelspec": {
   "display_name": "Python 3",
   "language": "python",
   "name": "python3"
  },
  "language_info": {
   "codemirror_mode": {
    "name": "ipython",
    "version": 2
   },
   "file_extension": ".py",
   "mimetype": "text/x-python",
   "name": "python",
   "nbconvert_exporter": "python",
   "pygments_lexer": "ipython2",
   "version": "2.7.6"
  }
 },
 "nbformat": 4,
 "nbformat_minor": 5
}
