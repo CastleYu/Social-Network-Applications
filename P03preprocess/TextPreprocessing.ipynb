{
 "cells": [
  {
   "cell_type": "markdown",
   "source": [
    "# 数据读取"
   ],
   "metadata": {
    "collapsed": false
   },
   "id": "97fe36f310d251f4"
  },
  {
   "cell_type": "code",
   "outputs": [
    {
     "data": {
      "text/plain": "                                                微博内容            博主昵称  \\\n0  美国一个芯片能治住中国？金一南:特朗普懂这个吗我们今天的学者在讲什么？中等收入陷阱、马尔萨斯...            青春文阳   \n1  买华为产品支持华为//【美国一个芯片能治住中国？金一南少将：特朗普懂这吗】 O美国一个芯片能...             晨光鹭   \n2  #罗玉凤##华为回应特朗普签紧急状态令# O不要再傻了，你知道美国为什么会打压华为 在这个时...      不知道取啥名就这个了   \n3  他老和谁合作呀！//【美国一个芯片能治住中国？金一南:特朗普懂这个吗】 O美国一个芯片能治住...          渡85199   \n4                    美媒：特朗普对华贸易战正在重创美国农村@QQ浏览器 O网页链接  手机用户2705503182   \n\n                                                博主主页    微博认证  微博达人  类标签  \n0  https://weibo.com/1509068310?refer_flag=100103...     NaN   NaN    1  \n1  https://weibo.com/1596719447?refer_flag=100103...     NaN   NaN    1  \n2  https://weibo.com/1904899245?refer_flag=100103...     NaN   NaN    1  \n3  https://weibo.com/5632884387?refer_flag=100103...  微博个人认证   NaN    1  \n4  https://weibo.com/2705503182?refer_flag=100103...     NaN   NaN    1  ",
      "text/html": "<div>\n<style scoped>\n    .dataframe tbody tr th:only-of-type {\n        vertical-align: middle;\n    }\n\n    .dataframe tbody tr th {\n        vertical-align: top;\n    }\n\n    .dataframe thead th {\n        text-align: right;\n    }\n</style>\n<table border=\"1\" class=\"dataframe\">\n  <thead>\n    <tr style=\"text-align: right;\">\n      <th></th>\n      <th>微博内容</th>\n      <th>博主昵称</th>\n      <th>博主主页</th>\n      <th>微博认证</th>\n      <th>微博达人</th>\n      <th>类标签</th>\n    </tr>\n  </thead>\n  <tbody>\n    <tr>\n      <th>0</th>\n      <td>美国一个芯片能治住中国？金一南:特朗普懂这个吗我们今天的学者在讲什么？中等收入陷阱、马尔萨斯...</td>\n      <td>青春文阳</td>\n      <td>https://weibo.com/1509068310?refer_flag=100103...</td>\n      <td>NaN</td>\n      <td>NaN</td>\n      <td>1</td>\n    </tr>\n    <tr>\n      <th>1</th>\n      <td>买华为产品支持华为//【美国一个芯片能治住中国？金一南少将：特朗普懂这吗】 O美国一个芯片能...</td>\n      <td>晨光鹭</td>\n      <td>https://weibo.com/1596719447?refer_flag=100103...</td>\n      <td>NaN</td>\n      <td>NaN</td>\n      <td>1</td>\n    </tr>\n    <tr>\n      <th>2</th>\n      <td>#罗玉凤##华为回应特朗普签紧急状态令# O不要再傻了，你知道美国为什么会打压华为 在这个时...</td>\n      <td>不知道取啥名就这个了</td>\n      <td>https://weibo.com/1904899245?refer_flag=100103...</td>\n      <td>NaN</td>\n      <td>NaN</td>\n      <td>1</td>\n    </tr>\n    <tr>\n      <th>3</th>\n      <td>他老和谁合作呀！//【美国一个芯片能治住中国？金一南:特朗普懂这个吗】 O美国一个芯片能治住...</td>\n      <td>渡85199</td>\n      <td>https://weibo.com/5632884387?refer_flag=100103...</td>\n      <td>微博个人认证</td>\n      <td>NaN</td>\n      <td>1</td>\n    </tr>\n    <tr>\n      <th>4</th>\n      <td>美媒：特朗普对华贸易战正在重创美国农村@QQ浏览器 O网页链接</td>\n      <td>手机用户2705503182</td>\n      <td>https://weibo.com/2705503182?refer_flag=100103...</td>\n      <td>NaN</td>\n      <td>NaN</td>\n      <td>1</td>\n    </tr>\n  </tbody>\n</table>\n</div>"
     },
     "execution_count": 2,
     "metadata": {},
     "output_type": "execute_result"
    }
   ],
   "source": [
    "#加载 Python 库\n",
    "#加载数据预处理模块\n",
    "import pandas as pd\n",
    "#加载绘图模块\n",
    "import seaborn as sns\n",
    "sns.set_style(style=\"darkgrid\")\n",
    "\n",
    "#数据读取 \n",
    "df = pd.read_csv(r\"weibo-test.csv\", encoding=\"gbk\")\n",
    "df.head()"
   ],
   "metadata": {
    "collapsed": false,
    "ExecuteTime": {
     "end_time": "2024-04-01T16:03:29.629947Z",
     "start_time": "2024-04-01T16:03:28.318626Z"
    }
   },
   "id": "b89454498d3c407a",
   "execution_count": 2
  },
  {
   "cell_type": "markdown",
   "source": [
    "# 重复值处理\n",
    "## 数据清洗"
   ],
   "metadata": {
    "collapsed": false
   },
   "id": "f81bb47044c7d012"
  },
  {
   "cell_type": "markdown",
   "source": [
    "### 去除一些无效或不需要的信息，比如微博昵称等。"
   ],
   "metadata": {
    "collapsed": false
   },
   "id": "5d276deecb14f284"
  },
  {
   "cell_type": "code",
   "outputs": [],
   "source": [
    "# pre-processing \n",
    "# dropping columns that aren't needed \n",
    "df.drop(df.columns[[1]], axis=1, inplace=True)"
   ],
   "metadata": {
    "collapsed": false
   },
   "id": "6e48643cba18a4c"
  },
  {
   "cell_type": "markdown",
   "source": [
    "### 去除或替换一些无效或不需要的信息，比如特殊字符、标点符号等。"
   ],
   "metadata": {
    "collapsed": false
   },
   "id": "109657c4690cc7a6"
  },
  {
   "cell_type": "code",
   "outputs": [
    {
     "ename": "NameError",
     "evalue": "name 'df' is not defined",
     "output_type": "error",
     "traceback": [
      "\u001B[1;31m---------------------------------------------------------------------------\u001B[0m",
      "\u001B[1;31mNameError\u001B[0m                                 Traceback (most recent call last)",
      "Cell \u001B[1;32mIn[1], line 3\u001B[0m\n\u001B[0;32m      1\u001B[0m \u001B[38;5;66;03m# pre-processing \u001B[39;00m\n\u001B[0;32m      2\u001B[0m \u001B[38;5;66;03m# dropping invalid character \u001B[39;00m\n\u001B[1;32m----> 3\u001B[0m df[\u001B[38;5;124m'\u001B[39m\u001B[38;5;124m微博内容\u001B[39m\u001B[38;5;124m'\u001B[39m] \u001B[38;5;241m=\u001B[39m \u001B[43mdf\u001B[49m[\u001B[38;5;124m'\u001B[39m\u001B[38;5;124m微博内容\u001B[39m\u001B[38;5;124m'\u001B[39m]\u001B[38;5;241m.\u001B[39mstr\u001B[38;5;241m.\u001B[39mreplace(\u001B[38;5;124mr\u001B[39m\u001B[38;5;124m'\u001B[39m\u001B[38;5;124m[^\u001B[39m\u001B[38;5;124m\\\u001B[39m\u001B[38;5;124mw]+\u001B[39m\u001B[38;5;124m'\u001B[39m, \u001B[38;5;124m'\u001B[39m\u001B[38;5;124m'\u001B[39m)\n",
      "\u001B[1;31mNameError\u001B[0m: name 'df' is not defined"
     ]
    }
   ],
   "source": [
    "# pre-processing \n",
    "# dropping invalid character \n",
    "df['微博内容'] = df['微博内容'].str.replace(r'[^\\w]+', '')"
   ],
   "metadata": {
    "collapsed": false,
    "ExecuteTime": {
     "end_time": "2024-04-01T15:13:58.714711Z",
     "start_time": "2024-04-01T15:13:58.421317Z"
    }
   },
   "id": "a5a4a9eb9a92eb84",
   "execution_count": 1
  },
  {
   "cell_type": "markdown",
   "source": [
    "### 查看新的数据信息总表。"
   ],
   "metadata": {
    "collapsed": false
   },
   "id": "44080ff0142428d6"
  },
  {
   "cell_type": "code",
   "outputs": [],
   "source": [
    "df.head()"
   ],
   "metadata": {
    "collapsed": false
   },
   "id": "169075e210feff7"
  },
  {
   "cell_type": "markdown",
   "source": [
    "## 重复值处理"
   ],
   "metadata": {
    "collapsed": false
   },
   "id": "1982beb0e8f964ef"
  },
  {
   "cell_type": "code",
   "outputs": [],
   "source": [
    "df_cp = df.drop_duplicates(['微博内容', '类标签'], keep='last')\n",
    "df_cp"
   ],
   "metadata": {
    "collapsed": false
   },
   "id": "4663544ed15a6af4"
  },
  {
   "cell_type": "markdown",
   "source": [
    "## 保存预处理后的文件"
   ],
   "metadata": {
    "collapsed": false
   },
   "id": "ff505a09df55380b"
  },
  {
   "cell_type": "code",
   "outputs": [],
   "source": [
    "#将 DataFrame 存储为 csv,index 表示是否显示行名，default=True \n",
    "df.to_csv(\"weibo-test-post.csv\", index=False, sep=',')\n",
    "print('Successfully saved!')"
   ],
   "metadata": {
    "collapsed": false
   },
   "id": "fb60aacd985381c2"
  }
 ],
 "metadata": {
  "kernelspec": {
   "display_name": "Python 3",
   "language": "python",
   "name": "python3"
  },
  "language_info": {
   "codemirror_mode": {
    "name": "ipython",
    "version": 2
   },
   "file_extension": ".py",
   "mimetype": "text/x-python",
   "name": "python",
   "nbconvert_exporter": "python",
   "pygments_lexer": "ipython2",
   "version": "2.7.6"
  }
 },
 "nbformat": 4,
 "nbformat_minor": 5
}
