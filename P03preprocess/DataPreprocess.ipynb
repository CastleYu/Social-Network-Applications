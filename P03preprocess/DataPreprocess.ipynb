{
 "cells": [
  {
   "cell_type": "code",
   "execution_count": null,
   "id": "31e5a91f3b323b8e",
   "metadata": {
    "collapsed": false
   },
   "outputs": [],
   "source": [
    "# 加载 Python 库\n",
    "# 加载数据预处理模块\n",
    "import pandas as pd\n",
    "# 加载绘图模块\n",
    "import seaborn as sns\n",
    "\n",
    "sns.set_style(style=\"darkgrid\")\n",
    "\n"
   ]
  },
  {
   "cell_type": "markdown",
   "source": [
    "# 数据读取"
   ],
   "metadata": {
    "collapsed": false
   },
   "id": "fca57315d0d6e11f"
  },
  {
   "cell_type": "code",
   "outputs": [
    {
     "data": {
      "text/plain": "      updateTime  suspectedCount  curedCount  deadCount  currentConfirmedIncr  \\\n0   1.580000e+12             111       67027       3204               -1351.0   \n1   1.580000e+12             111       67026       3204               -1350.0   \n2   1.580000e+12             111       67025       3204               -1349.0   \n3   1.580000e+12             111       67025       3204               -1353.0   \n4   1.580000e+12             111       67024       3204               -1352.0   \n5   1.580000e+12             111       67024       3204               -1352.0   \n6   1.580000e+12             111       67024       3204               -1352.0   \n7   1.580000e+12             111       67024       3204               -1352.0   \n8   1.580000e+12             111       67024       3204               -1352.0   \n9   1.580000e+12             111       67024       3204               -1352.0   \n10  1.580000e+12             111       67024       3204               -1352.0   \n11  1.580000e+12             111       67024       3204               -1352.0   \n12  1.580000e+12             111       67024       3204               -1358.0   \n13  1.580000e+12             111       67024       3204               -1358.0   \n14  1.580000e+12             111       67024       3204               -1358.0   \n15  1.580000e+12             111       67024       3204               -1358.0   \n16  1.580000e+12             111       67024       3204               -1358.0   \n17  1.580000e+12             111       67024       3204               -1358.0   \n18  1.580000e+12             111       67024       3204               -1358.0   \n19  1.580000e+12              95       65677       3194                   NaN   \n\n    confirmedIncr  \n0            37.0  \n1            37.0  \n2            37.0  \n3            33.0  \n4           -33.0  \n5            33.0  \n6            33.0  \n7            33.0  \n8            33.0  \n9            33.0  \n10           33.0  \n11           33.0  \n12           27.0  \n13           27.0  \n14           27.0  \n15           27.0  \n16           27.0  \n17           27.0  \n18           27.0  \n19            NaN  ",
      "text/html": "<div>\n<style scoped>\n    .dataframe tbody tr th:only-of-type {\n        vertical-align: middle;\n    }\n\n    .dataframe tbody tr th {\n        vertical-align: top;\n    }\n\n    .dataframe thead th {\n        text-align: right;\n    }\n</style>\n<table border=\"1\" class=\"dataframe\">\n  <thead>\n    <tr style=\"text-align: right;\">\n      <th></th>\n      <th>updateTime</th>\n      <th>suspectedCount</th>\n      <th>curedCount</th>\n      <th>deadCount</th>\n      <th>currentConfirmedIncr</th>\n      <th>confirmedIncr</th>\n    </tr>\n  </thead>\n  <tbody>\n    <tr>\n      <th>0</th>\n      <td>1.580000e+12</td>\n      <td>111</td>\n      <td>67027</td>\n      <td>3204</td>\n      <td>-1351.0</td>\n      <td>37.0</td>\n    </tr>\n    <tr>\n      <th>1</th>\n      <td>1.580000e+12</td>\n      <td>111</td>\n      <td>67026</td>\n      <td>3204</td>\n      <td>-1350.0</td>\n      <td>37.0</td>\n    </tr>\n    <tr>\n      <th>2</th>\n      <td>1.580000e+12</td>\n      <td>111</td>\n      <td>67025</td>\n      <td>3204</td>\n      <td>-1349.0</td>\n      <td>37.0</td>\n    </tr>\n    <tr>\n      <th>3</th>\n      <td>1.580000e+12</td>\n      <td>111</td>\n      <td>67025</td>\n      <td>3204</td>\n      <td>-1353.0</td>\n      <td>33.0</td>\n    </tr>\n    <tr>\n      <th>4</th>\n      <td>1.580000e+12</td>\n      <td>111</td>\n      <td>67024</td>\n      <td>3204</td>\n      <td>-1352.0</td>\n      <td>-33.0</td>\n    </tr>\n    <tr>\n      <th>5</th>\n      <td>1.580000e+12</td>\n      <td>111</td>\n      <td>67024</td>\n      <td>3204</td>\n      <td>-1352.0</td>\n      <td>33.0</td>\n    </tr>\n    <tr>\n      <th>6</th>\n      <td>1.580000e+12</td>\n      <td>111</td>\n      <td>67024</td>\n      <td>3204</td>\n      <td>-1352.0</td>\n      <td>33.0</td>\n    </tr>\n    <tr>\n      <th>7</th>\n      <td>1.580000e+12</td>\n      <td>111</td>\n      <td>67024</td>\n      <td>3204</td>\n      <td>-1352.0</td>\n      <td>33.0</td>\n    </tr>\n    <tr>\n      <th>8</th>\n      <td>1.580000e+12</td>\n      <td>111</td>\n      <td>67024</td>\n      <td>3204</td>\n      <td>-1352.0</td>\n      <td>33.0</td>\n    </tr>\n    <tr>\n      <th>9</th>\n      <td>1.580000e+12</td>\n      <td>111</td>\n      <td>67024</td>\n      <td>3204</td>\n      <td>-1352.0</td>\n      <td>33.0</td>\n    </tr>\n    <tr>\n      <th>10</th>\n      <td>1.580000e+12</td>\n      <td>111</td>\n      <td>67024</td>\n      <td>3204</td>\n      <td>-1352.0</td>\n      <td>33.0</td>\n    </tr>\n    <tr>\n      <th>11</th>\n      <td>1.580000e+12</td>\n      <td>111</td>\n      <td>67024</td>\n      <td>3204</td>\n      <td>-1352.0</td>\n      <td>33.0</td>\n    </tr>\n    <tr>\n      <th>12</th>\n      <td>1.580000e+12</td>\n      <td>111</td>\n      <td>67024</td>\n      <td>3204</td>\n      <td>-1358.0</td>\n      <td>27.0</td>\n    </tr>\n    <tr>\n      <th>13</th>\n      <td>1.580000e+12</td>\n      <td>111</td>\n      <td>67024</td>\n      <td>3204</td>\n      <td>-1358.0</td>\n      <td>27.0</td>\n    </tr>\n    <tr>\n      <th>14</th>\n      <td>1.580000e+12</td>\n      <td>111</td>\n      <td>67024</td>\n      <td>3204</td>\n      <td>-1358.0</td>\n      <td>27.0</td>\n    </tr>\n    <tr>\n      <th>15</th>\n      <td>1.580000e+12</td>\n      <td>111</td>\n      <td>67024</td>\n      <td>3204</td>\n      <td>-1358.0</td>\n      <td>27.0</td>\n    </tr>\n    <tr>\n      <th>16</th>\n      <td>1.580000e+12</td>\n      <td>111</td>\n      <td>67024</td>\n      <td>3204</td>\n      <td>-1358.0</td>\n      <td>27.0</td>\n    </tr>\n    <tr>\n      <th>17</th>\n      <td>1.580000e+12</td>\n      <td>111</td>\n      <td>67024</td>\n      <td>3204</td>\n      <td>-1358.0</td>\n      <td>27.0</td>\n    </tr>\n    <tr>\n      <th>18</th>\n      <td>1.580000e+12</td>\n      <td>111</td>\n      <td>67024</td>\n      <td>3204</td>\n      <td>-1358.0</td>\n      <td>27.0</td>\n    </tr>\n    <tr>\n      <th>19</th>\n      <td>1.580000e+12</td>\n      <td>95</td>\n      <td>65677</td>\n      <td>3194</td>\n      <td>NaN</td>\n      <td>NaN</td>\n    </tr>\n  </tbody>\n</table>\n</div>"
     },
     "execution_count": 9,
     "metadata": {},
     "output_type": "execute_result"
    }
   ],
   "source": [
    "# 数据读取\n",
    "raw_df = pd.read_csv(r\"data-test.csv\", encoding=\"utf8\")\n",
    "# 输出前两行数据，不加参数默认输出前 5 行\n",
    "raw_df.head(20)\n"
   ],
   "metadata": {
    "collapsed": true,
    "ExecuteTime": {
     "end_time": "2024-03-26T08:50:40.820414Z",
     "start_time": "2024-03-26T08:50:40.804984Z"
    }
   },
   "id": "initial_id",
   "execution_count": 9
  },
  {
   "cell_type": "markdown",
   "source": [
    "# 缺失值处理"
   ],
   "metadata": {
    "collapsed": false
   },
   "id": "795d592ec164fbd1"
  },
  {
   "cell_type": "markdown",
   "source": [
    "## 缺失值查看"
   ],
   "metadata": {
    "collapsed": false
   },
   "id": "8adcdd6ce046c32b"
  },
  {
   "cell_type": "code",
   "outputs": [
    {
     "data": {
      "text/plain": "    updateTime  suspectedCount  curedCount  deadCount  currentConfirmedIncr  \\\n0        False           False       False      False                 False   \n1        False           False       False      False                 False   \n2        False           False       False      False                 False   \n3        False           False       False      False                 False   \n4        False           False       False      False                 False   \n5        False           False       False      False                 False   \n6        False           False       False      False                 False   \n7        False           False       False      False                 False   \n8        False           False       False      False                 False   \n9        False           False       False      False                 False   \n10       False           False       False      False                 False   \n11       False           False       False      False                 False   \n12       False           False       False      False                 False   \n13       False           False       False      False                 False   \n14       False           False       False      False                 False   \n15       False           False       False      False                 False   \n16       False           False       False      False                 False   \n17       False           False       False      False                 False   \n18       False           False       False      False                 False   \n19       False           False       False      False                  True   \n20       False           False       False      False                  True   \n21       False           False       False      False                  True   \n22       False           False       False      False                 False   \n23       False           False       False      False                 False   \n24       False           False       False      False                 False   \n25       False           False       False      False                 False   \n26       False           False       False      False                 False   \n27       False           False       False      False                 False   \n28       False           False       False      False                 False   \n29       False           False       False      False                 False   \n30       False           False       False      False                 False   \n31       False           False       False      False                 False   \n32       False           False       False      False                 False   \n33       False           False       False      False                 False   \n34       False           False       False      False                 False   \n35       False           False       False      False                 False   \n36       False           False       False      False                 False   \n37       False           False       False      False                 False   \n38       False           False       False      False                 False   \n\n    confirmedIncr  \n0           False  \n1           False  \n2           False  \n3           False  \n4           False  \n5           False  \n6           False  \n7           False  \n8           False  \n9           False  \n10          False  \n11          False  \n12          False  \n13          False  \n14          False  \n15          False  \n16          False  \n17          False  \n18          False  \n19           True  \n20           True  \n21           True  \n22          False  \n23          False  \n24          False  \n25          False  \n26          False  \n27          False  \n28          False  \n29          False  \n30          False  \n31          False  \n32          False  \n33          False  \n34          False  \n35          False  \n36          False  \n37          False  \n38          False  ",
      "text/html": "<div>\n<style scoped>\n    .dataframe tbody tr th:only-of-type {\n        vertical-align: middle;\n    }\n\n    .dataframe tbody tr th {\n        vertical-align: top;\n    }\n\n    .dataframe thead th {\n        text-align: right;\n    }\n</style>\n<table border=\"1\" class=\"dataframe\">\n  <thead>\n    <tr style=\"text-align: right;\">\n      <th></th>\n      <th>updateTime</th>\n      <th>suspectedCount</th>\n      <th>curedCount</th>\n      <th>deadCount</th>\n      <th>currentConfirmedIncr</th>\n      <th>confirmedIncr</th>\n    </tr>\n  </thead>\n  <tbody>\n    <tr>\n      <th>0</th>\n      <td>False</td>\n      <td>False</td>\n      <td>False</td>\n      <td>False</td>\n      <td>False</td>\n      <td>False</td>\n    </tr>\n    <tr>\n      <th>1</th>\n      <td>False</td>\n      <td>False</td>\n      <td>False</td>\n      <td>False</td>\n      <td>False</td>\n      <td>False</td>\n    </tr>\n    <tr>\n      <th>2</th>\n      <td>False</td>\n      <td>False</td>\n      <td>False</td>\n      <td>False</td>\n      <td>False</td>\n      <td>False</td>\n    </tr>\n    <tr>\n      <th>3</th>\n      <td>False</td>\n      <td>False</td>\n      <td>False</td>\n      <td>False</td>\n      <td>False</td>\n      <td>False</td>\n    </tr>\n    <tr>\n      <th>4</th>\n      <td>False</td>\n      <td>False</td>\n      <td>False</td>\n      <td>False</td>\n      <td>False</td>\n      <td>False</td>\n    </tr>\n    <tr>\n      <th>5</th>\n      <td>False</td>\n      <td>False</td>\n      <td>False</td>\n      <td>False</td>\n      <td>False</td>\n      <td>False</td>\n    </tr>\n    <tr>\n      <th>6</th>\n      <td>False</td>\n      <td>False</td>\n      <td>False</td>\n      <td>False</td>\n      <td>False</td>\n      <td>False</td>\n    </tr>\n    <tr>\n      <th>7</th>\n      <td>False</td>\n      <td>False</td>\n      <td>False</td>\n      <td>False</td>\n      <td>False</td>\n      <td>False</td>\n    </tr>\n    <tr>\n      <th>8</th>\n      <td>False</td>\n      <td>False</td>\n      <td>False</td>\n      <td>False</td>\n      <td>False</td>\n      <td>False</td>\n    </tr>\n    <tr>\n      <th>9</th>\n      <td>False</td>\n      <td>False</td>\n      <td>False</td>\n      <td>False</td>\n      <td>False</td>\n      <td>False</td>\n    </tr>\n    <tr>\n      <th>10</th>\n      <td>False</td>\n      <td>False</td>\n      <td>False</td>\n      <td>False</td>\n      <td>False</td>\n      <td>False</td>\n    </tr>\n    <tr>\n      <th>11</th>\n      <td>False</td>\n      <td>False</td>\n      <td>False</td>\n      <td>False</td>\n      <td>False</td>\n      <td>False</td>\n    </tr>\n    <tr>\n      <th>12</th>\n      <td>False</td>\n      <td>False</td>\n      <td>False</td>\n      <td>False</td>\n      <td>False</td>\n      <td>False</td>\n    </tr>\n    <tr>\n      <th>13</th>\n      <td>False</td>\n      <td>False</td>\n      <td>False</td>\n      <td>False</td>\n      <td>False</td>\n      <td>False</td>\n    </tr>\n    <tr>\n      <th>14</th>\n      <td>False</td>\n      <td>False</td>\n      <td>False</td>\n      <td>False</td>\n      <td>False</td>\n      <td>False</td>\n    </tr>\n    <tr>\n      <th>15</th>\n      <td>False</td>\n      <td>False</td>\n      <td>False</td>\n      <td>False</td>\n      <td>False</td>\n      <td>False</td>\n    </tr>\n    <tr>\n      <th>16</th>\n      <td>False</td>\n      <td>False</td>\n      <td>False</td>\n      <td>False</td>\n      <td>False</td>\n      <td>False</td>\n    </tr>\n    <tr>\n      <th>17</th>\n      <td>False</td>\n      <td>False</td>\n      <td>False</td>\n      <td>False</td>\n      <td>False</td>\n      <td>False</td>\n    </tr>\n    <tr>\n      <th>18</th>\n      <td>False</td>\n      <td>False</td>\n      <td>False</td>\n      <td>False</td>\n      <td>False</td>\n      <td>False</td>\n    </tr>\n    <tr>\n      <th>19</th>\n      <td>False</td>\n      <td>False</td>\n      <td>False</td>\n      <td>False</td>\n      <td>True</td>\n      <td>True</td>\n    </tr>\n    <tr>\n      <th>20</th>\n      <td>False</td>\n      <td>False</td>\n      <td>False</td>\n      <td>False</td>\n      <td>True</td>\n      <td>True</td>\n    </tr>\n    <tr>\n      <th>21</th>\n      <td>False</td>\n      <td>False</td>\n      <td>False</td>\n      <td>False</td>\n      <td>True</td>\n      <td>True</td>\n    </tr>\n    <tr>\n      <th>22</th>\n      <td>False</td>\n      <td>False</td>\n      <td>False</td>\n      <td>False</td>\n      <td>False</td>\n      <td>False</td>\n    </tr>\n    <tr>\n      <th>23</th>\n      <td>False</td>\n      <td>False</td>\n      <td>False</td>\n      <td>False</td>\n      <td>False</td>\n      <td>False</td>\n    </tr>\n    <tr>\n      <th>24</th>\n      <td>False</td>\n      <td>False</td>\n      <td>False</td>\n      <td>False</td>\n      <td>False</td>\n      <td>False</td>\n    </tr>\n    <tr>\n      <th>25</th>\n      <td>False</td>\n      <td>False</td>\n      <td>False</td>\n      <td>False</td>\n      <td>False</td>\n      <td>False</td>\n    </tr>\n    <tr>\n      <th>26</th>\n      <td>False</td>\n      <td>False</td>\n      <td>False</td>\n      <td>False</td>\n      <td>False</td>\n      <td>False</td>\n    </tr>\n    <tr>\n      <th>27</th>\n      <td>False</td>\n      <td>False</td>\n      <td>False</td>\n      <td>False</td>\n      <td>False</td>\n      <td>False</td>\n    </tr>\n    <tr>\n      <th>28</th>\n      <td>False</td>\n      <td>False</td>\n      <td>False</td>\n      <td>False</td>\n      <td>False</td>\n      <td>False</td>\n    </tr>\n    <tr>\n      <th>29</th>\n      <td>False</td>\n      <td>False</td>\n      <td>False</td>\n      <td>False</td>\n      <td>False</td>\n      <td>False</td>\n    </tr>\n    <tr>\n      <th>30</th>\n      <td>False</td>\n      <td>False</td>\n      <td>False</td>\n      <td>False</td>\n      <td>False</td>\n      <td>False</td>\n    </tr>\n    <tr>\n      <th>31</th>\n      <td>False</td>\n      <td>False</td>\n      <td>False</td>\n      <td>False</td>\n      <td>False</td>\n      <td>False</td>\n    </tr>\n    <tr>\n      <th>32</th>\n      <td>False</td>\n      <td>False</td>\n      <td>False</td>\n      <td>False</td>\n      <td>False</td>\n      <td>False</td>\n    </tr>\n    <tr>\n      <th>33</th>\n      <td>False</td>\n      <td>False</td>\n      <td>False</td>\n      <td>False</td>\n      <td>False</td>\n      <td>False</td>\n    </tr>\n    <tr>\n      <th>34</th>\n      <td>False</td>\n      <td>False</td>\n      <td>False</td>\n      <td>False</td>\n      <td>False</td>\n      <td>False</td>\n    </tr>\n    <tr>\n      <th>35</th>\n      <td>False</td>\n      <td>False</td>\n      <td>False</td>\n      <td>False</td>\n      <td>False</td>\n      <td>False</td>\n    </tr>\n    <tr>\n      <th>36</th>\n      <td>False</td>\n      <td>False</td>\n      <td>False</td>\n      <td>False</td>\n      <td>False</td>\n      <td>False</td>\n    </tr>\n    <tr>\n      <th>37</th>\n      <td>False</td>\n      <td>False</td>\n      <td>False</td>\n      <td>False</td>\n      <td>False</td>\n      <td>False</td>\n    </tr>\n    <tr>\n      <th>38</th>\n      <td>False</td>\n      <td>False</td>\n      <td>False</td>\n      <td>False</td>\n      <td>False</td>\n      <td>False</td>\n    </tr>\n  </tbody>\n</table>\n</div>"
     },
     "execution_count": 11,
     "metadata": {},
     "output_type": "execute_result"
    }
   ],
   "source": [
    "# 查看前 5 个样本中，数据是否为缺失值。\n",
    "raw_df.head(200).isnull()"
   ],
   "metadata": {
    "collapsed": false,
    "ExecuteTime": {
     "end_time": "2024-03-26T08:52:59.523831Z",
     "start_time": "2024-03-26T08:52:59.514273Z"
    }
   },
   "id": "d96f12224a2117e",
   "execution_count": 11
  },
  {
   "cell_type": "code",
   "outputs": [
    {
     "data": {
      "text/plain": "updateTime              False\nsuspectedCount          False\ncuredCount              False\ndeadCount               False\ncurrentConfirmedIncr     True\nconfirmedIncr            True\ndtype: bool"
     },
     "execution_count": 13,
     "metadata": {},
     "output_type": "execute_result"
    }
   ],
   "source": [
    "# 查看每个特征是否存在缺失值\n",
    "raw_df.isnull().any()"
   ],
   "metadata": {
    "collapsed": false,
    "ExecuteTime": {
     "end_time": "2024-03-26T08:54:07.129820Z",
     "start_time": "2024-03-26T08:54:07.124410Z"
    }
   },
   "id": "5610a65df670eee8",
   "execution_count": 13
  },
  {
   "cell_type": "code",
   "outputs": [
    {
     "data": {
      "text/plain": "updateTime              0\nsuspectedCount          0\ncuredCount              0\ndeadCount               0\ncurrentConfirmedIncr    3\nconfirmedIncr           3\ndtype: int64"
     },
     "execution_count": 4,
     "metadata": {},
     "output_type": "execute_result"
    }
   ],
   "source": [
    "# 查看每个特征缺失值的总数\n",
    "raw_df.isnull().sum()"
   ],
   "metadata": {
    "collapsed": false,
    "ExecuteTime": {
     "end_time": "2024-03-26T08:01:51.616789Z",
     "start_time": "2024-03-26T08:01:51.611789Z"
    }
   },
   "id": "8140b3a11ccbf720",
   "execution_count": 4
  },
  {
   "cell_type": "markdown",
   "source": [
    "## 缺失值填充"
   ],
   "metadata": {
    "collapsed": false
   },
   "id": "f1dbbbf2e120f60d"
  },
  {
   "cell_type": "code",
   "outputs": [
    {
     "data": {
      "text/plain": "0    -1351.0\n1    -1350.0\n2    -1349.0\n3    -1353.0\n4    -1352.0\n5    -1352.0\n6    -1352.0\n7    -1352.0\n8    -1352.0\n9    -1352.0\n10   -1352.0\n11   -1352.0\n12   -1358.0\n13   -1358.0\n14   -1358.0\n15   -1358.0\n16   -1358.0\n17   -1358.0\n18   -1358.0\n19   -1358.0\n20   -1358.0\n21   -1358.0\n22   -1447.0\n23   -1447.0\n24   -1447.0\n25   -1447.0\n26   -1447.0\n27   -1447.0\n28   -1450.0\n29   -1450.0\n30   -1452.0\n31   -1452.0\n32   -1452.0\n33   -1452.0\n34   -1447.0\n35   -1431.0\n36   -1429.0\n37   -1432.0\n38   -1434.0\nName: currentConfirmedIncr , dtype: float64"
     },
     "execution_count": 14,
     "metadata": {},
     "output_type": "execute_result"
    }
   ],
   "source": [
    "#观察疫情数据样本的 currentConfirmedIncr，发现经常出现连续多天数值不变，因此用前一个非缺失值去填充该缺失值。\n",
    "raw_df[\"currentConfirmedIncr \"] = raw_df[\"currentConfirmedIncr\"].ffill()\n",
    "raw_df[\"currentConfirmedIncr \"]"
   ],
   "metadata": {
    "collapsed": false,
    "ExecuteTime": {
     "end_time": "2024-03-26T08:54:46.413615Z",
     "start_time": "2024-03-26T08:54:46.407112Z"
    }
   },
   "id": "a181cdc0e09de8f6",
   "execution_count": 14
  },
  {
   "cell_type": "code",
   "outputs": [
    {
     "data": {
      "text/plain": "updateTime               0\nsuspectedCount           0\ncuredCount               0\ndeadCount                0\ncurrentConfirmedIncr     3\nconfirmedIncr            3\ncurrentConfirmedIncr     0\ndtype: int64"
     },
     "execution_count": 19,
     "metadata": {},
     "output_type": "execute_result"
    }
   ],
   "source": [
    "# 查看每个特征缺失值是否都完成处理，如果还有特征存在缺失值，需要对该特征进一步处理缺失值\n",
    "raw_df.isnull().sum()"
   ],
   "metadata": {
    "collapsed": false,
    "ExecuteTime": {
     "end_time": "2024-03-26T08:58:19.643178Z",
     "start_time": "2024-03-26T08:58:19.637077Z"
    }
   },
   "id": "f163ef224787fd5e",
   "execution_count": 19
  },
  {
   "cell_type": "markdown",
   "source": [
    "## 缺失值删除"
   ],
   "metadata": {
    "collapsed": false
   },
   "id": "3f4b95d90ae3f219"
  },
  {
   "cell_type": "code",
   "outputs": [
    {
     "data": {
      "text/plain": "      updateTime  suspectedCount  curedCount  deadCount  currentConfirmedIncr  \\\n0   1.580000e+12             111       67027       3204               -1351.0   \n1   1.580000e+12             111       67026       3204               -1350.0   \n2   1.580000e+12             111       67025       3204               -1349.0   \n3   1.580000e+12             111       67025       3204               -1353.0   \n4   1.580000e+12             111       67024       3204               -1352.0   \n5   1.580000e+12             111       67024       3204               -1352.0   \n6   1.580000e+12             111       67024       3204               -1352.0   \n7   1.580000e+12             111       67024       3204               -1352.0   \n8   1.580000e+12             111       67024       3204               -1352.0   \n9   1.580000e+12             111       67024       3204               -1352.0   \n10  1.580000e+12             111       67024       3204               -1352.0   \n11  1.580000e+12             111       67024       3204               -1352.0   \n12  1.580000e+12             111       67024       3204               -1358.0   \n13  1.580000e+12             111       67024       3204               -1358.0   \n14  1.580000e+12             111       67024       3204               -1358.0   \n15  1.580000e+12             111       67024       3204               -1358.0   \n16  1.580000e+12             111       67024       3204               -1358.0   \n17  1.580000e+12             111       67024       3204               -1358.0   \n18  1.580000e+12             111       67024       3204               -1358.0   \n22  1.580000e+12              95       65675       3194               -1447.0   \n23  1.580000e+12              95       65675       3194               -1447.0   \n24  1.580000e+12              95       65675       3194               -1447.0   \n25  1.580000e+12              95       65675       3194               -1447.0   \n26  1.580000e+12              95       65675       3194               -1447.0   \n27  1.580000e+12              95       65675       3194               -1447.0   \n28  1.580000e+12              95       65675       3194               -1450.0   \n29  1.580000e+12              95       65675       3194               -1450.0   \n30  1.580000e+12              95       65677       3194               -1452.0   \n31  1.580000e+12              95       65677       3194               -1452.0   \n32  1.580000e+12              95       65677       3194               -1452.0   \n33  1.580000e+12              95       65677       3194               -1452.0   \n34  1.580000e+12              95       65672       3194               -1447.0   \n35  1.580000e+12              95       65656       3194               -1431.0   \n36  1.580000e+12              95       65654       3194               -1429.0   \n37  1.580000e+12              95       65654       3194               -1432.0   \n38  1.580000e+12              95       65654       3194               -1434.0   \n\n    confirmedIncr  currentConfirmedIncr   \n0            37.0                -1351.0  \n1            37.0                -1350.0  \n2            37.0                -1349.0  \n3            33.0                -1353.0  \n4           -33.0                -1352.0  \n5            33.0                -1352.0  \n6            33.0                -1352.0  \n7            33.0                -1352.0  \n8            33.0                -1352.0  \n9            33.0                -1352.0  \n10           33.0                -1352.0  \n11           33.0                -1352.0  \n12           27.0                -1358.0  \n13           27.0                -1358.0  \n14           27.0                -1358.0  \n15           27.0                -1358.0  \n16           27.0                -1358.0  \n17           27.0                -1358.0  \n18           27.0                -1358.0  \n22           26.0                -1447.0  \n23           26.0                -1447.0  \n24           26.0                -1447.0  \n25           26.0                -1447.0  \n26           26.0                -1447.0  \n27           26.0                -1447.0  \n28         2300.0                -1450.0  \n29           23.0                -1450.0  \n30           23.0                -1452.0  \n31           23.0                -1452.0  \n32           23.0                -1452.0  \n33           23.0                -1452.0  \n34           23.0                -1447.0  \n35           23.0                -1431.0  \n36           23.0                -1429.0  \n37           20.0                -1432.0  \n38           18.0                -1434.0  ",
      "text/html": "<div>\n<style scoped>\n    .dataframe tbody tr th:only-of-type {\n        vertical-align: middle;\n    }\n\n    .dataframe tbody tr th {\n        vertical-align: top;\n    }\n\n    .dataframe thead th {\n        text-align: right;\n    }\n</style>\n<table border=\"1\" class=\"dataframe\">\n  <thead>\n    <tr style=\"text-align: right;\">\n      <th></th>\n      <th>updateTime</th>\n      <th>suspectedCount</th>\n      <th>curedCount</th>\n      <th>deadCount</th>\n      <th>currentConfirmedIncr</th>\n      <th>confirmedIncr</th>\n      <th>currentConfirmedIncr</th>\n    </tr>\n  </thead>\n  <tbody>\n    <tr>\n      <th>0</th>\n      <td>1.580000e+12</td>\n      <td>111</td>\n      <td>67027</td>\n      <td>3204</td>\n      <td>-1351.0</td>\n      <td>37.0</td>\n      <td>-1351.0</td>\n    </tr>\n    <tr>\n      <th>1</th>\n      <td>1.580000e+12</td>\n      <td>111</td>\n      <td>67026</td>\n      <td>3204</td>\n      <td>-1350.0</td>\n      <td>37.0</td>\n      <td>-1350.0</td>\n    </tr>\n    <tr>\n      <th>2</th>\n      <td>1.580000e+12</td>\n      <td>111</td>\n      <td>67025</td>\n      <td>3204</td>\n      <td>-1349.0</td>\n      <td>37.0</td>\n      <td>-1349.0</td>\n    </tr>\n    <tr>\n      <th>3</th>\n      <td>1.580000e+12</td>\n      <td>111</td>\n      <td>67025</td>\n      <td>3204</td>\n      <td>-1353.0</td>\n      <td>33.0</td>\n      <td>-1353.0</td>\n    </tr>\n    <tr>\n      <th>4</th>\n      <td>1.580000e+12</td>\n      <td>111</td>\n      <td>67024</td>\n      <td>3204</td>\n      <td>-1352.0</td>\n      <td>-33.0</td>\n      <td>-1352.0</td>\n    </tr>\n    <tr>\n      <th>5</th>\n      <td>1.580000e+12</td>\n      <td>111</td>\n      <td>67024</td>\n      <td>3204</td>\n      <td>-1352.0</td>\n      <td>33.0</td>\n      <td>-1352.0</td>\n    </tr>\n    <tr>\n      <th>6</th>\n      <td>1.580000e+12</td>\n      <td>111</td>\n      <td>67024</td>\n      <td>3204</td>\n      <td>-1352.0</td>\n      <td>33.0</td>\n      <td>-1352.0</td>\n    </tr>\n    <tr>\n      <th>7</th>\n      <td>1.580000e+12</td>\n      <td>111</td>\n      <td>67024</td>\n      <td>3204</td>\n      <td>-1352.0</td>\n      <td>33.0</td>\n      <td>-1352.0</td>\n    </tr>\n    <tr>\n      <th>8</th>\n      <td>1.580000e+12</td>\n      <td>111</td>\n      <td>67024</td>\n      <td>3204</td>\n      <td>-1352.0</td>\n      <td>33.0</td>\n      <td>-1352.0</td>\n    </tr>\n    <tr>\n      <th>9</th>\n      <td>1.580000e+12</td>\n      <td>111</td>\n      <td>67024</td>\n      <td>3204</td>\n      <td>-1352.0</td>\n      <td>33.0</td>\n      <td>-1352.0</td>\n    </tr>\n    <tr>\n      <th>10</th>\n      <td>1.580000e+12</td>\n      <td>111</td>\n      <td>67024</td>\n      <td>3204</td>\n      <td>-1352.0</td>\n      <td>33.0</td>\n      <td>-1352.0</td>\n    </tr>\n    <tr>\n      <th>11</th>\n      <td>1.580000e+12</td>\n      <td>111</td>\n      <td>67024</td>\n      <td>3204</td>\n      <td>-1352.0</td>\n      <td>33.0</td>\n      <td>-1352.0</td>\n    </tr>\n    <tr>\n      <th>12</th>\n      <td>1.580000e+12</td>\n      <td>111</td>\n      <td>67024</td>\n      <td>3204</td>\n      <td>-1358.0</td>\n      <td>27.0</td>\n      <td>-1358.0</td>\n    </tr>\n    <tr>\n      <th>13</th>\n      <td>1.580000e+12</td>\n      <td>111</td>\n      <td>67024</td>\n      <td>3204</td>\n      <td>-1358.0</td>\n      <td>27.0</td>\n      <td>-1358.0</td>\n    </tr>\n    <tr>\n      <th>14</th>\n      <td>1.580000e+12</td>\n      <td>111</td>\n      <td>67024</td>\n      <td>3204</td>\n      <td>-1358.0</td>\n      <td>27.0</td>\n      <td>-1358.0</td>\n    </tr>\n    <tr>\n      <th>15</th>\n      <td>1.580000e+12</td>\n      <td>111</td>\n      <td>67024</td>\n      <td>3204</td>\n      <td>-1358.0</td>\n      <td>27.0</td>\n      <td>-1358.0</td>\n    </tr>\n    <tr>\n      <th>16</th>\n      <td>1.580000e+12</td>\n      <td>111</td>\n      <td>67024</td>\n      <td>3204</td>\n      <td>-1358.0</td>\n      <td>27.0</td>\n      <td>-1358.0</td>\n    </tr>\n    <tr>\n      <th>17</th>\n      <td>1.580000e+12</td>\n      <td>111</td>\n      <td>67024</td>\n      <td>3204</td>\n      <td>-1358.0</td>\n      <td>27.0</td>\n      <td>-1358.0</td>\n    </tr>\n    <tr>\n      <th>18</th>\n      <td>1.580000e+12</td>\n      <td>111</td>\n      <td>67024</td>\n      <td>3204</td>\n      <td>-1358.0</td>\n      <td>27.0</td>\n      <td>-1358.0</td>\n    </tr>\n    <tr>\n      <th>22</th>\n      <td>1.580000e+12</td>\n      <td>95</td>\n      <td>65675</td>\n      <td>3194</td>\n      <td>-1447.0</td>\n      <td>26.0</td>\n      <td>-1447.0</td>\n    </tr>\n    <tr>\n      <th>23</th>\n      <td>1.580000e+12</td>\n      <td>95</td>\n      <td>65675</td>\n      <td>3194</td>\n      <td>-1447.0</td>\n      <td>26.0</td>\n      <td>-1447.0</td>\n    </tr>\n    <tr>\n      <th>24</th>\n      <td>1.580000e+12</td>\n      <td>95</td>\n      <td>65675</td>\n      <td>3194</td>\n      <td>-1447.0</td>\n      <td>26.0</td>\n      <td>-1447.0</td>\n    </tr>\n    <tr>\n      <th>25</th>\n      <td>1.580000e+12</td>\n      <td>95</td>\n      <td>65675</td>\n      <td>3194</td>\n      <td>-1447.0</td>\n      <td>26.0</td>\n      <td>-1447.0</td>\n    </tr>\n    <tr>\n      <th>26</th>\n      <td>1.580000e+12</td>\n      <td>95</td>\n      <td>65675</td>\n      <td>3194</td>\n      <td>-1447.0</td>\n      <td>26.0</td>\n      <td>-1447.0</td>\n    </tr>\n    <tr>\n      <th>27</th>\n      <td>1.580000e+12</td>\n      <td>95</td>\n      <td>65675</td>\n      <td>3194</td>\n      <td>-1447.0</td>\n      <td>26.0</td>\n      <td>-1447.0</td>\n    </tr>\n    <tr>\n      <th>28</th>\n      <td>1.580000e+12</td>\n      <td>95</td>\n      <td>65675</td>\n      <td>3194</td>\n      <td>-1450.0</td>\n      <td>2300.0</td>\n      <td>-1450.0</td>\n    </tr>\n    <tr>\n      <th>29</th>\n      <td>1.580000e+12</td>\n      <td>95</td>\n      <td>65675</td>\n      <td>3194</td>\n      <td>-1450.0</td>\n      <td>23.0</td>\n      <td>-1450.0</td>\n    </tr>\n    <tr>\n      <th>30</th>\n      <td>1.580000e+12</td>\n      <td>95</td>\n      <td>65677</td>\n      <td>3194</td>\n      <td>-1452.0</td>\n      <td>23.0</td>\n      <td>-1452.0</td>\n    </tr>\n    <tr>\n      <th>31</th>\n      <td>1.580000e+12</td>\n      <td>95</td>\n      <td>65677</td>\n      <td>3194</td>\n      <td>-1452.0</td>\n      <td>23.0</td>\n      <td>-1452.0</td>\n    </tr>\n    <tr>\n      <th>32</th>\n      <td>1.580000e+12</td>\n      <td>95</td>\n      <td>65677</td>\n      <td>3194</td>\n      <td>-1452.0</td>\n      <td>23.0</td>\n      <td>-1452.0</td>\n    </tr>\n    <tr>\n      <th>33</th>\n      <td>1.580000e+12</td>\n      <td>95</td>\n      <td>65677</td>\n      <td>3194</td>\n      <td>-1452.0</td>\n      <td>23.0</td>\n      <td>-1452.0</td>\n    </tr>\n    <tr>\n      <th>34</th>\n      <td>1.580000e+12</td>\n      <td>95</td>\n      <td>65672</td>\n      <td>3194</td>\n      <td>-1447.0</td>\n      <td>23.0</td>\n      <td>-1447.0</td>\n    </tr>\n    <tr>\n      <th>35</th>\n      <td>1.580000e+12</td>\n      <td>95</td>\n      <td>65656</td>\n      <td>3194</td>\n      <td>-1431.0</td>\n      <td>23.0</td>\n      <td>-1431.0</td>\n    </tr>\n    <tr>\n      <th>36</th>\n      <td>1.580000e+12</td>\n      <td>95</td>\n      <td>65654</td>\n      <td>3194</td>\n      <td>-1429.0</td>\n      <td>23.0</td>\n      <td>-1429.0</td>\n    </tr>\n    <tr>\n      <th>37</th>\n      <td>1.580000e+12</td>\n      <td>95</td>\n      <td>65654</td>\n      <td>3194</td>\n      <td>-1432.0</td>\n      <td>20.0</td>\n      <td>-1432.0</td>\n    </tr>\n    <tr>\n      <th>38</th>\n      <td>1.580000e+12</td>\n      <td>95</td>\n      <td>65654</td>\n      <td>3194</td>\n      <td>-1434.0</td>\n      <td>18.0</td>\n      <td>-1434.0</td>\n    </tr>\n  </tbody>\n</table>\n</div>"
     },
     "execution_count": 16,
     "metadata": {},
     "output_type": "execute_result"
    }
   ],
   "source": [
    "#删除新数据集的所有缺失值\n",
    "non_na_df = raw_df.dropna()\n",
    "non_na_df"
   ],
   "metadata": {
    "collapsed": false,
    "ExecuteTime": {
     "end_time": "2024-03-26T08:55:08.596980Z",
     "start_time": "2024-03-26T08:55:08.577357Z"
    }
   },
   "id": "1d7420f848f47bb8",
   "execution_count": 16
  },
  {
   "cell_type": "code",
   "outputs": [
    {
     "data": {
      "text/plain": "updateTime               False\nsuspectedCount           False\ncuredCount               False\ndeadCount                False\ncurrentConfirmedIncr     False\nconfirmedIncr            False\ncurrentConfirmedIncr     False\ndtype: bool"
     },
     "execution_count": 18,
     "metadata": {},
     "output_type": "execute_result"
    }
   ],
   "source": [
    "#当删除掉不需要的行时，行索引会变的不连续，这时候可以重新设计新的索引\n",
    "non_na_df.reset_index(drop=True,inplace=True)#drop=True：删除原行索引；inplace=True:在数据上进行更新\n",
    "#检查数据集中是否含有缺失值\n",
    "non_na_df.isnull().any()"
   ],
   "metadata": {
    "collapsed": false,
    "ExecuteTime": {
     "end_time": "2024-03-26T08:58:07.731314Z",
     "start_time": "2024-03-26T08:58:07.725870Z"
    }
   },
   "id": "365cc013ecf161c5",
   "execution_count": 18
  },
  {
   "cell_type": "markdown",
   "source": [
    "# 重复值处理"
   ],
   "metadata": {
    "collapsed": false
   },
   "id": "7b1f8e759c739476"
  },
  {
   "cell_type": "code",
   "outputs": [
    {
     "data": {
      "text/plain": "     updateTime  suspectedCount  curedCount  deadCount  currentConfirmedIncr  \\\n0  1.580000e+12             111       67027       3204               -1351.0   \n1  1.580000e+12             111       67026       3204               -1350.0   \n2  1.580000e+12             111       67025       3204               -1353.0   \n3  1.580000e+12             111       67024       3204               -1358.0   \n4  1.580000e+12              95       65675       3194               -1450.0   \n5  1.580000e+12              95       65677       3194               -1452.0   \n6  1.580000e+12              95       65672       3194               -1447.0   \n7  1.580000e+12              95       65656       3194               -1431.0   \n8  1.580000e+12              95       65654       3194               -1434.0   \n\n   confirmedIncr  currentConfirmedIncr   \n0           37.0                -1351.0  \n1           37.0                -1350.0  \n2           33.0                -1353.0  \n3           27.0                -1358.0  \n4           23.0                -1450.0  \n5           23.0                -1452.0  \n6           23.0                -1447.0  \n7           23.0                -1431.0  \n8           18.0                -1434.0  ",
      "text/html": "<div>\n<style scoped>\n    .dataframe tbody tr th:only-of-type {\n        vertical-align: middle;\n    }\n\n    .dataframe tbody tr th {\n        vertical-align: top;\n    }\n\n    .dataframe thead th {\n        text-align: right;\n    }\n</style>\n<table border=\"1\" class=\"dataframe\">\n  <thead>\n    <tr style=\"text-align: right;\">\n      <th></th>\n      <th>updateTime</th>\n      <th>suspectedCount</th>\n      <th>curedCount</th>\n      <th>deadCount</th>\n      <th>currentConfirmedIncr</th>\n      <th>confirmedIncr</th>\n      <th>currentConfirmedIncr</th>\n    </tr>\n  </thead>\n  <tbody>\n    <tr>\n      <th>0</th>\n      <td>1.580000e+12</td>\n      <td>111</td>\n      <td>67027</td>\n      <td>3204</td>\n      <td>-1351.0</td>\n      <td>37.0</td>\n      <td>-1351.0</td>\n    </tr>\n    <tr>\n      <th>1</th>\n      <td>1.580000e+12</td>\n      <td>111</td>\n      <td>67026</td>\n      <td>3204</td>\n      <td>-1350.0</td>\n      <td>37.0</td>\n      <td>-1350.0</td>\n    </tr>\n    <tr>\n      <th>2</th>\n      <td>1.580000e+12</td>\n      <td>111</td>\n      <td>67025</td>\n      <td>3204</td>\n      <td>-1353.0</td>\n      <td>33.0</td>\n      <td>-1353.0</td>\n    </tr>\n    <tr>\n      <th>3</th>\n      <td>1.580000e+12</td>\n      <td>111</td>\n      <td>67024</td>\n      <td>3204</td>\n      <td>-1358.0</td>\n      <td>27.0</td>\n      <td>-1358.0</td>\n    </tr>\n    <tr>\n      <th>4</th>\n      <td>1.580000e+12</td>\n      <td>95</td>\n      <td>65675</td>\n      <td>3194</td>\n      <td>-1450.0</td>\n      <td>23.0</td>\n      <td>-1450.0</td>\n    </tr>\n    <tr>\n      <th>5</th>\n      <td>1.580000e+12</td>\n      <td>95</td>\n      <td>65677</td>\n      <td>3194</td>\n      <td>-1452.0</td>\n      <td>23.0</td>\n      <td>-1452.0</td>\n    </tr>\n    <tr>\n      <th>6</th>\n      <td>1.580000e+12</td>\n      <td>95</td>\n      <td>65672</td>\n      <td>3194</td>\n      <td>-1447.0</td>\n      <td>23.0</td>\n      <td>-1447.0</td>\n    </tr>\n    <tr>\n      <th>7</th>\n      <td>1.580000e+12</td>\n      <td>95</td>\n      <td>65656</td>\n      <td>3194</td>\n      <td>-1431.0</td>\n      <td>23.0</td>\n      <td>-1431.0</td>\n    </tr>\n    <tr>\n      <th>8</th>\n      <td>1.580000e+12</td>\n      <td>95</td>\n      <td>65654</td>\n      <td>3194</td>\n      <td>-1434.0</td>\n      <td>18.0</td>\n      <td>-1434.0</td>\n    </tr>\n  </tbody>\n</table>\n</div>"
     },
     "execution_count": 26,
     "metadata": {},
     "output_type": "execute_result"
    }
   ],
   "source": [
    "non_na_df_cp = non_na_df.drop_duplicates([\"suspectedCount\",'curedCount'],keep='last')\n",
    "non_na_df_cp.reset_index(drop=True,inplace=True)\n",
    "non_na_df_cp"
   ],
   "metadata": {
    "collapsed": false,
    "ExecuteTime": {
     "end_time": "2024-03-26T09:35:15.503835Z",
     "start_time": "2024-03-26T09:35:15.493765Z"
    }
   },
   "id": "e16ac72057ac4f2c",
   "execution_count": 26
  },
  {
   "cell_type": "markdown",
   "source": [
    "# 异常值处理"
   ],
   "metadata": {
    "collapsed": false
   },
   "id": "27d0c19a74e7bcdd"
  },
  {
   "cell_type": "markdown",
   "source": [
    "## 查看数据基本信息"
   ],
   "metadata": {
    "collapsed": false
   },
   "id": "15d284b62038328f"
  },
  {
   "cell_type": "code",
   "outputs": [
    {
     "name": "stdout",
     "output_type": "stream",
     "text": [
      "       confirmedIncr\n",
      "count      36.000000\n",
      "mean       89.138889\n",
      "std       379.171138\n",
      "min       -33.000000\n",
      "25%        23.000000\n",
      "50%        27.000000\n",
      "75%        33.000000\n",
      "max      2300.000000\n"
     ]
    },
    {
     "data": {
      "text/plain": "0       37.0\n1       37.0\n2       37.0\n3       33.0\n4      -33.0\n5       33.0\n6       33.0\n7       33.0\n8       33.0\n9       33.0\n10      33.0\n11      33.0\n12      27.0\n13      27.0\n14      27.0\n15      27.0\n16      27.0\n17      27.0\n18      27.0\n19      26.0\n20      26.0\n21      26.0\n22      26.0\n23      26.0\n24      26.0\n25    2300.0\n26      23.0\n27      23.0\n28      23.0\n29      23.0\n30      23.0\n31      23.0\n32      23.0\n33      23.0\n34      20.0\n35      18.0\nName: confirmedIncr, dtype: float64"
     },
     "execution_count": 22,
     "metadata": {},
     "output_type": "execute_result"
    }
   ],
   "source": [
    "confirmedIncr_copy = non_na_df.copy()\n",
    "print(confirmedIncr_copy[\"confirmedIncr\"].to_frame().describe())\n",
    "confirmedIncr_copy[\"confirmedIncr\"]"
   ],
   "metadata": {
    "collapsed": false,
    "ExecuteTime": {
     "end_time": "2024-03-26T09:24:43.156748Z",
     "start_time": "2024-03-26T09:24:43.146690Z"
    }
   },
   "id": "97c1347cd1df3e05",
   "execution_count": 22
  },
  {
   "cell_type": "markdown",
   "source": [
    "## 数据可视化"
   ],
   "metadata": {
    "collapsed": false
   },
   "id": "b2ba32f54aacd285"
  },
  {
   "cell_type": "code",
   "outputs": [
    {
     "data": {
      "text/plain": "<Figure size 1000x1000 with 1 Axes>",
      "image/png": "[encoded data removed]"
     },
     "metadata": {},
     "output_type": "display_data"
    }
   ],
   "source": [
    "from matplotlib import pyplot as plt\n",
    "\n",
    "plt.figure(figsize = (10,10))\n",
    "sns.regplot(x=\"updateTime\", y=\"confirmedIncr\", color='darkorange',data= confirmedIncr_copy)\n",
    "confirmedIncr_copy.to_csv('data-test-1.1.csv') #保存文件"
   ],
   "metadata": {
    "collapsed": false,
    "ExecuteTime": {
     "end_time": "2024-03-26T09:33:07.294457Z",
     "start_time": "2024-03-26T09:33:07.006961Z"
    }
   },
   "id": "2b8081d6d9f1369b",
   "execution_count": 23
  }
 ],
 "metadata": {
  "kernelspec": {
   "display_name": "Python 3",
   "language": "python",
   "name": "python3"
  },
  "language_info": {
   "codemirror_mode": {
    "name": "ipython",
    "version": 2
   },
   "file_extension": ".py",
   "mimetype": "text/x-python",
   "name": "python",
   "nbconvert_exporter": "python",
   "pygments_lexer": "ipython2",
   "version": "2.7.6"
  }
 },
 "nbformat": 4,
 "nbformat_minor": 5
}
